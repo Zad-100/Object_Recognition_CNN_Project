{
 "cells": [
  {
   "cell_type": "markdown",
   "metadata": {},
   "source": [
    "# This AI model will be able to recognise objects like animals, airplane, ships, etc. and classify them accordingly. The AI model will train and test on CIFAR-10 data-set using Convolutional Neural Network method."
   ]
  },
  {
   "cell_type": "code",
   "execution_count": 93,
   "metadata": {},
   "outputs": [],
   "source": [
    "import tensorflow as tf # package providing the framework for building the model"
   ]
  },
  {
   "cell_type": "markdown",
   "metadata": {},
   "source": [
    "## Loading CIFAR-10 Data-set. It consists of 50000 training coloured images and 10000 testing coloured (RGB) images; each of size 32x32. There are 10 classes viz. \"airplane\", \"automobile\", \"bird\", \"cat\", \"deer\", \"dog\", \"frog\", \"horse\", \"ship\", \"truck\"\n",
    "\n",
    "### Tensorflow already has it. We can load it using Keras."
   ]
  },
  {
   "cell_type": "code",
   "execution_count": 94,
   "metadata": {},
   "outputs": [],
   "source": [
    "cifar = tf.keras.datasets.cifar10\n",
    "\n",
    "# Unpacking and splitting the data-sets into training and testing images\n",
    "(xTrain, yTrain), (xTest, yTest) = cifar.load_data()"
   ]
  },
  {
   "cell_type": "code",
   "execution_count": 95,
   "metadata": {},
   "outputs": [
    {
     "name": "stdout",
     "output_type": "stream",
     "text": [
      "The length of training set (x) is 50000\n",
      "The length of training set (y) is 50000\n",
      "The length of testing set (x) is 10000\n",
      "The length of testing set (y) is 10000\n",
      "\n",
      "The shape of the 6th element in the training set is (32, 32, 3)\n",
      "The 6th element from the training set consists of:-\n",
      " [[[159 102 101]\n",
      "  [150  91  95]\n",
      "  [153  95  97]\n",
      "  ...\n",
      "  [ 91  71  56]\n",
      "  [ 74  63  55]\n",
      "  [ 76  58  55]]\n",
      "\n",
      " [[142  75  68]\n",
      "  [146  72  66]\n",
      "  [155  76  65]\n",
      "  ...\n",
      "  [127 105  71]\n",
      "  [122 111  93]\n",
      "  [ 86  69  61]]\n",
      "\n",
      " [[109  67  75]\n",
      "  [ 99  58  60]\n",
      "  [105  59  52]\n",
      "  ...\n",
      "  [137 112  80]\n",
      "  [163 132 105]\n",
      "  [ 93  72  71]]\n",
      "\n",
      " ...\n",
      "\n",
      " [[244 129  70]\n",
      "  [240 123  65]\n",
      "  [241 122  65]\n",
      "  ...\n",
      "  [156  42  15]\n",
      "  [179  59  26]\n",
      "  [200  73  36]]\n",
      "\n",
      " [[246 133  74]\n",
      "  [243 128  72]\n",
      "  [243 127  70]\n",
      "  ...\n",
      "  [162  44  14]\n",
      "  [178  56  22]\n",
      "  [192  65  27]]\n",
      "\n",
      " [[246 139  82]\n",
      "  [243 133  78]\n",
      "  [244 132  77]\n",
      "  ...\n",
      "  [166  47  14]\n",
      "  [173  51  17]\n",
      "  [182  57  19]]]\n"
     ]
    }
   ],
   "source": [
    "# CIFAR-10 data contains 50000 training samples and 10000 testing samples\n",
    "print(\"The length of training set (x) is\", len(xTrain))\n",
    "print(\"The length of training set (y) is\", len(yTrain))\n",
    "print(\"The length of testing set (x) is\", len(xTest))\n",
    "print(\"The length of testing set (y) is\", len(yTest), end=\"\\n\\n\")\n",
    "\n",
    "# Shape of the image is 32x32\n",
    "print(\"The shape of the 6th element in the training set is\", xTrain[5].shape)\n",
    "print(\"The 6th element from the training set consists of:-\\n\", xTrain[5])"
   ]
  },
  {
   "cell_type": "markdown",
   "metadata": {},
   "source": [
    "## Importing matplotlib to plot and view images and numpy to handle arrays and other mathematical operations"
   ]
  },
  {
   "cell_type": "code",
   "execution_count": 96,
   "metadata": {},
   "outputs": [],
   "source": [
    "import matplotlib.pyplot as plt\n",
    "import numpy as np"
   ]
  },
  {
   "cell_type": "markdown",
   "metadata": {},
   "source": [
    "## Visualising some sample images"
   ]
  },
  {
   "cell_type": "code",
   "execution_count": 97,
   "metadata": {},
   "outputs": [
    {
     "name": "stdout",
     "output_type": "stream",
     "text": [
      "The original and reshaped train versions:\n",
      "[[6]\n",
      " [9]\n",
      " [9]\n",
      " [4]]\n",
      "[6 9 9 4]\n",
      "The original and reshaped test versions:\n",
      "[[3]\n",
      " [8]\n",
      " [8]\n",
      " [0]]\n",
      "[3 8 8 0]\n"
     ]
    }
   ],
   "source": [
    "# First we will make a tuple named 'classes' which will store all the class\n",
    "# names of the data-set in the same order as is in CIFAR-10 data-set\n",
    "classes = (\n",
    "    \"airplane\",\n",
    "    \"automobile\",\n",
    "    \"bird\",\n",
    "    \"cat\",\n",
    "    \"deer\",\n",
    "    \"dog\",\n",
    "    \"frog\",\n",
    "    \"horse\",\n",
    "    \"ship\",\n",
    "    \"truck\"\n",
    ")\n",
    "\n",
    "# now reshaping yTrain and yTest so that it becomes a one-dimensional array and\n",
    "# we can access its data with just one index\n",
    "yTrainr = yTrain.reshape(-1, )\n",
    "yTestr = yTest.reshape(-1, )\n",
    "print(\"The original and reshaped train versions:\", yTrain[: 4], yTrainr[: 4],\n",
    "      sep=\"\\n\")\n",
    "print(\"The original and reshaped test versions:\", yTest[: 4], yTestr[: 4],\n",
    "      sep=\"\\n\")\n",
    "\n",
    "# function to plot an image\n",
    "# x and y can be training/test sets index is the index whose image we want to\n",
    "# plot\n",
    "def plotImage(x, y, index):\n",
    "    plt.figure(figsize=(15, 1.5))\n",
    "    plt.imshow(x[index])\n",
    "    plt.xlabel(classes[y[index]])"
   ]
  },
  {
   "cell_type": "code",
   "execution_count": 98,
   "metadata": {},
   "outputs": [
    {
     "data": {
      "image/png": "[encoded data removed]",
      "text/plain": [
       "<Figure size 1080x108 with 1 Axes>"
      ]
     },
     "metadata": {
      "needs_background": "light"
     },
     "output_type": "display_data"
    },
    {
     "data": {
      "image/png": "[encoded data removed]",
      "text/plain": [
       "<Figure size 1080x108 with 1 Axes>"
      ]
     },
     "metadata": {
      "needs_background": "light"
     },
     "output_type": "display_data"
    },
    {
     "data": {
      "image/png": "[encoded data removed]",
      "text/plain": [
       "<Figure size 1080x108 with 1 Axes>"
      ]
     },
     "metadata": {
      "needs_background": "light"
     },
     "output_type": "display_data"
    },
    {
     "data": {
      "image/png": "[encoded data removed]",
      "text/plain": [
       "<Figure size 1080x108 with 1 Axes>"
      ]
     },
     "metadata": {
      "needs_background": "light"
     },
     "output_type": "display_data"
    }
   ],
   "source": [
    "# Plotting some images\n",
    "plotImage(xTrain, yTrainr, 10)\n",
    "plotImage(xTest, yTestr, 10)\n",
    "plotImage(xTrain, yTrainr, 6969)\n",
    "plotImage(xTest, yTestr, 4987)"
   ]
  },
  {
   "cell_type": "markdown",
   "metadata": {},
   "source": [
    "## Resizing image to make it suitable for applying Convolution operations"
   ]
  },
  {
   "cell_type": "code",
   "execution_count": 99,
   "metadata": {},
   "outputs": [
    {
     "name": "stdout",
     "output_type": "stream",
     "text": [
      "Training samples: (50000, 32, 32, 3)\n",
      "Testing samples: (10000, 32, 32, 3)\n"
     ]
    }
   ],
   "source": [
    "IMG_SIZE = 32\n",
    "# increasing by one dimension (making it 4-dimensional) so that it can work with\n",
    "# Keras API\n",
    "xTrainr = np.array(xTrain).reshape(-1, IMG_SIZE, IMG_SIZE, 3)\n",
    "xTestr = np.array(xTest).reshape(-1, IMG_SIZE, IMG_SIZE, 3)\n",
    "\n",
    "print(\"Training samples:\", xTrainr.shape)\n",
    "print(\"Testing samples:\", xTestr.shape)"
   ]
  },
  {
   "cell_type": "markdown",
   "metadata": {},
   "source": [
    "## Scaling/Normalisation: division by 255 to bring in the range 0 to 1"
   ]
  },
  {
   "cell_type": "code",
   "execution_count": 100,
   "metadata": {},
   "outputs": [
    {
     "name": "stdout",
     "output_type": "stream",
     "text": [
      "The reshaped and normalised (1st training image) image is:\n",
      "[[[0.23137255 0.24313725 0.24705882]\n",
      "  [0.16862745 0.18039216 0.17647059]\n",
      "  [0.19607843 0.18823529 0.16862745]\n",
      "  ...\n",
      "  [0.61960784 0.51764706 0.42352941]\n",
      "  [0.59607843 0.49019608 0.4       ]\n",
      "  [0.58039216 0.48627451 0.40392157]]\n",
      "\n",
      " [[0.0627451  0.07843137 0.07843137]\n",
      "  [0.         0.         0.        ]\n",
      "  [0.07058824 0.03137255 0.        ]\n",
      "  ...\n",
      "  [0.48235294 0.34509804 0.21568627]\n",
      "  [0.46666667 0.3254902  0.19607843]\n",
      "  [0.47843137 0.34117647 0.22352941]]\n",
      "\n",
      " [[0.09803922 0.09411765 0.08235294]\n",
      "  [0.0627451  0.02745098 0.        ]\n",
      "  [0.19215686 0.10588235 0.03137255]\n",
      "  ...\n",
      "  [0.4627451  0.32941176 0.19607843]\n",
      "  [0.47058824 0.32941176 0.19607843]\n",
      "  [0.42745098 0.28627451 0.16470588]]\n",
      "\n",
      " ...\n",
      "\n",
      " [[0.81568627 0.66666667 0.37647059]\n",
      "  [0.78823529 0.6        0.13333333]\n",
      "  [0.77647059 0.63137255 0.10196078]\n",
      "  ...\n",
      "  [0.62745098 0.52156863 0.2745098 ]\n",
      "  [0.21960784 0.12156863 0.02745098]\n",
      "  [0.20784314 0.13333333 0.07843137]]\n",
      "\n",
      " [[0.70588235 0.54509804 0.37647059]\n",
      "  [0.67843137 0.48235294 0.16470588]\n",
      "  [0.72941176 0.56470588 0.11764706]\n",
      "  ...\n",
      "  [0.72156863 0.58039216 0.36862745]\n",
      "  [0.38039216 0.24313725 0.13333333]\n",
      "  [0.3254902  0.20784314 0.13333333]]\n",
      "\n",
      " [[0.69411765 0.56470588 0.45490196]\n",
      "  [0.65882353 0.50588235 0.36862745]\n",
      "  [0.70196078 0.55686275 0.34117647]\n",
      "  ...\n",
      "  [0.84705882 0.72156863 0.54901961]\n",
      "  [0.59215686 0.4627451  0.32941176]\n",
      "  [0.48235294 0.36078431 0.28235294]]]\n",
      "\n",
      "The reshaped and normalised (1st testing image) image is:\n",
      "[[[0.61960784 0.43921569 0.19215686]\n",
      "  [0.62352941 0.43529412 0.18431373]\n",
      "  [0.64705882 0.45490196 0.2       ]\n",
      "  ...\n",
      "  [0.5372549  0.37254902 0.14117647]\n",
      "  [0.49411765 0.35686275 0.14117647]\n",
      "  [0.45490196 0.33333333 0.12941176]]\n",
      "\n",
      " [[0.59607843 0.43921569 0.2       ]\n",
      "  [0.59215686 0.43137255 0.15686275]\n",
      "  [0.62352941 0.44705882 0.17647059]\n",
      "  ...\n",
      "  [0.53333333 0.37254902 0.12156863]\n",
      "  [0.49019608 0.35686275 0.1254902 ]\n",
      "  [0.46666667 0.34509804 0.13333333]]\n",
      "\n",
      " [[0.59215686 0.43137255 0.18431373]\n",
      "  [0.59215686 0.42745098 0.12941176]\n",
      "  [0.61960784 0.43529412 0.14117647]\n",
      "  ...\n",
      "  [0.54509804 0.38431373 0.13333333]\n",
      "  [0.50980392 0.37254902 0.13333333]\n",
      "  [0.47058824 0.34901961 0.12941176]]\n",
      "\n",
      " ...\n",
      "\n",
      " [[0.26666667 0.48627451 0.69411765]\n",
      "  [0.16470588 0.39215686 0.58039216]\n",
      "  [0.12156863 0.34509804 0.5372549 ]\n",
      "  ...\n",
      "  [0.14901961 0.38039216 0.57254902]\n",
      "  [0.05098039 0.25098039 0.42352941]\n",
      "  [0.15686275 0.33333333 0.49803922]]\n",
      "\n",
      " [[0.23921569 0.45490196 0.65882353]\n",
      "  [0.19215686 0.4        0.58039216]\n",
      "  [0.1372549  0.33333333 0.51764706]\n",
      "  ...\n",
      "  [0.10196078 0.32156863 0.50980392]\n",
      "  [0.11372549 0.32156863 0.49411765]\n",
      "  [0.07843137 0.25098039 0.41960784]]\n",
      "\n",
      " [[0.21176471 0.41960784 0.62745098]\n",
      "  [0.21960784 0.41176471 0.58431373]\n",
      "  [0.17647059 0.34901961 0.51764706]\n",
      "  ...\n",
      "  [0.09411765 0.30196078 0.48627451]\n",
      "  [0.13333333 0.32941176 0.50588235]\n",
      "  [0.08235294 0.2627451  0.43137255]]]\n"
     ]
    }
   ],
   "source": [
    "xTrainr = xTrainr / 255\n",
    "xTestr = xTestr / 255\n",
    "\n",
    "print(\"The reshaped and normalised (1st training image) image is:\", xTrainr[0],\n",
    "      sep=\"\\n\", end=\"\\n\\n\")\n",
    "print(\"The reshaped and normalised (1st testing image) image is:\", xTestr[0],\n",
    "      sep=\"\\n\")"
   ]
  },
  {
   "cell_type": "markdown",
   "metadata": {},
   "source": [
    "## Creating the Deep Neural Netwrok and training on 50000 training samples"
   ]
  },
  {
   "cell_type": "code",
   "execution_count": 101,
   "metadata": {},
   "outputs": [],
   "source": [
    "# Importing the required functions\n",
    "from tensorflow.keras.models import Sequential\n",
    "from tensorflow.keras.layers import Dense, Activation, MaxPool2D\n",
    "from tensorflow.keras.layers import Flatten, Conv2D, Dropout"
   ]
  },
  {
   "cell_type": "code",
   "execution_count": 102,
   "metadata": {},
   "outputs": [
    {
     "name": "stdout",
     "output_type": "stream",
     "text": [
      "Model: \"sequential_4\"\n",
      "_________________________________________________________________\n",
      " Layer (type)                Output Shape              Param #   \n",
      "=================================================================\n",
      " conv2d_12 (Conv2D)          (None, 32, 32, 50)        1400      \n",
      "                                                                 \n",
      " max_pooling2d_12 (MaxPoolin  (None, 16, 16, 50)       0         \n",
      " g2D)                                                            \n",
      "                                                                 \n",
      " conv2d_13 (Conv2D)          (None, 16, 16, 100)       45100     \n",
      "                                                                 \n",
      " max_pooling2d_13 (MaxPoolin  (None, 8, 8, 100)        0         \n",
      " g2D)                                                            \n",
      "                                                                 \n",
      " dropout_16 (Dropout)        (None, 8, 8, 100)         0         \n",
      "                                                                 \n",
      " conv2d_14 (Conv2D)          (None, 8, 8, 150)         135150    \n",
      "                                                                 \n",
      " max_pooling2d_14 (MaxPoolin  (None, 4, 4, 150)        0         \n",
      " g2D)                                                            \n",
      "                                                                 \n",
      " dropout_17 (Dropout)        (None, 4, 4, 150)         0         \n",
      "                                                                 \n",
      " flatten_4 (Flatten)         (None, 2400)              0         \n",
      "                                                                 \n",
      " dense_12 (Dense)            (None, 400)               960400    \n",
      "                                                                 \n",
      " dropout_18 (Dropout)        (None, 400)               0         \n",
      "                                                                 \n",
      " dense_13 (Dense)            (None, 200)               80200     \n",
      "                                                                 \n",
      " dropout_19 (Dropout)        (None, 200)               0         \n",
      "                                                                 \n",
      " dense_14 (Dense)            (None, 10)                2010      \n",
      "                                                                 \n",
      " activation_4 (Activation)   (None, 10)                0         \n",
      "                                                                 \n",
      "=================================================================\n",
      "Total params: 1,224,260\n",
      "Trainable params: 1,224,260\n",
      "Non-trainable params: 0\n",
      "_________________________________________________________________\n"
     ]
    }
   ],
   "source": [
    "# Creating a simple neural network\n",
    "or_model = Sequential() # Sequential allows to build a model layer by layer\n",
    "\n",
    "# First Convolutional Layer\n",
    "# (input layer size is mentioned for only first layer)\n",
    "or_model.add(Conv2D(50, kernel_size=(3, 3), input_shape=(32, 32, 3),\n",
    "                    strides=(1, 1), padding='same', activation='relu'))\n",
    "# maxpooling single maximum value of 2x2\n",
    "or_model.add(MaxPool2D(pool_size=(2, 2))) # selects the maximum element from\n",
    "                                          # each region of the feature map\n",
    "                                          # reducing the size by half\n",
    "\n",
    "# Second Convolutional Layer\n",
    "or_model.add(Conv2D(100, kernel_size=(3, 3), strides=(1, 1), padding='same',\n",
    "                    activation='relu'))\n",
    "or_model.add(MaxPool2D(pool_size=(2, 2)))\n",
    "or_model.add(Dropout(0.3)) # to avoid overfitting\n",
    "\n",
    "# Third Convolutional Layer\n",
    "or_model.add(Conv2D(150, kernel_size=(3, 3), strides=(1, 1), padding='same',\n",
    "                    activation='relu'))\n",
    "or_model.add(MaxPool2D(pool_size=(2, 2)))\n",
    "or_model.add(Dropout(0.3))\n",
    "\n",
    "# Now we shall flatten (transfroming into a single column) the feature map\n",
    "# matrix before connecting the layers fully\n",
    "or_model.add(Flatten())\n",
    "\n",
    "# Creating the dense layer (fully connecting the each layer to the next layer)\n",
    "or_model.add(Dense(400, activation='relu')) # connecting first layer\n",
    "or_model.add(Dropout(0.4))\n",
    "\n",
    "or_model.add(Dense(200, activation='relu')) # connecting layer 2\n",
    "or_model.add(Dropout(0.4))\n",
    "\n",
    "# Last fully connected layer, where the output must be equal to number of\n",
    "# classes, 10, that is\n",
    "or_model.add(Dense(10))\n",
    "or_model.add(Activation(\"softmax\")) # class probabilities\n",
    "\n",
    "# Displaying the or_model summary\n",
    "or_model.summary()"
   ]
  },
  {
   "cell_type": "markdown",
   "metadata": {},
   "source": [
    "## Compiling the AI model"
   ]
  },
  {
   "cell_type": "code",
   "execution_count": 103,
   "metadata": {},
   "outputs": [],
   "source": [
    "## Compiling our AI model\n",
    "or_model.compile(\n",
    "    optimizer=\"adam\", # controls the learning rate\n",
    "    loss=\"sparse_categorical_crossentropy\", # estimates the loss of the model\n",
    "    metrics=['accuracy']\n",
    ")"
   ]
  },
  {
   "cell_type": "markdown",
   "metadata": {},
   "source": [
    "## Training the model with the training dataset"
   ]
  },
  {
   "cell_type": "code",
   "execution_count": 104,
   "metadata": {},
   "outputs": [
    {
     "name": "stdout",
     "output_type": "stream",
     "text": [
      "Epoch 1/30\n",
      "274/274 [==============================] - 64s 230ms/step - loss: 1.8005 - accuracy: 0.3247 - val_loss: 1.4691 - val_accuracy: 0.4712\n",
      "Epoch 2/30\n",
      "274/274 [==============================] - 65s 236ms/step - loss: 1.3552 - accuracy: 0.5055 - val_loss: 1.1922 - val_accuracy: 0.5631\n",
      "Epoch 3/30\n",
      "274/274 [==============================] - 65s 237ms/step - loss: 1.1659 - accuracy: 0.5854 - val_loss: 1.0369 - val_accuracy: 0.6309\n",
      "Epoch 4/30\n",
      "274/274 [==============================] - 67s 245ms/step - loss: 1.0544 - accuracy: 0.6303 - val_loss: 0.9652 - val_accuracy: 0.6652\n",
      "Epoch 5/30\n",
      "274/274 [==============================] - 67s 245ms/step - loss: 0.9622 - accuracy: 0.6632 - val_loss: 0.8999 - val_accuracy: 0.6845\n",
      "Epoch 6/30\n",
      "274/274 [==============================] - 69s 251ms/step - loss: 0.8961 - accuracy: 0.6899 - val_loss: 0.8485 - val_accuracy: 0.7022\n",
      "Epoch 7/30\n",
      "274/274 [==============================] - 71s 260ms/step - loss: 0.8341 - accuracy: 0.7094 - val_loss: 0.7687 - val_accuracy: 0.7329\n",
      "Epoch 8/30\n",
      "274/274 [==============================] - 71s 258ms/step - loss: 0.7814 - accuracy: 0.7251 - val_loss: 0.7284 - val_accuracy: 0.7491\n",
      "Epoch 9/30\n",
      "274/274 [==============================] - 69s 253ms/step - loss: 0.7486 - accuracy: 0.7387 - val_loss: 0.7438 - val_accuracy: 0.7401\n",
      "Epoch 10/30\n",
      "274/274 [==============================] - 69s 252ms/step - loss: 0.7238 - accuracy: 0.7473 - val_loss: 0.7014 - val_accuracy: 0.7553\n",
      "Epoch 11/30\n",
      "274/274 [==============================] - 70s 256ms/step - loss: 0.6797 - accuracy: 0.7637 - val_loss: 0.6751 - val_accuracy: 0.7673\n",
      "Epoch 12/30\n",
      "274/274 [==============================] - 71s 258ms/step - loss: 0.6520 - accuracy: 0.7743 - val_loss: 0.7037 - val_accuracy: 0.7561\n",
      "Epoch 13/30\n",
      "274/274 [==============================] - 71s 260ms/step - loss: 0.6342 - accuracy: 0.7769 - val_loss: 0.6706 - val_accuracy: 0.7680\n",
      "Epoch 14/30\n",
      "274/274 [==============================] - 65s 237ms/step - loss: 0.5923 - accuracy: 0.7932 - val_loss: 0.6532 - val_accuracy: 0.7729\n",
      "Epoch 15/30\n",
      "274/274 [==============================] - 64s 235ms/step - loss: 0.5840 - accuracy: 0.7968 - val_loss: 0.6549 - val_accuracy: 0.7773\n",
      "Epoch 16/30\n",
      "274/274 [==============================] - 64s 233ms/step - loss: 0.5544 - accuracy: 0.8078 - val_loss: 0.6462 - val_accuracy: 0.7784\n",
      "Epoch 17/30\n",
      "274/274 [==============================] - 65s 236ms/step - loss: 0.5378 - accuracy: 0.8109 - val_loss: 0.6605 - val_accuracy: 0.7763\n",
      "Epoch 18/30\n",
      "274/274 [==============================] - 64s 232ms/step - loss: 0.5298 - accuracy: 0.8126 - val_loss: 0.6595 - val_accuracy: 0.7767\n",
      "Epoch 19/30\n",
      "274/274 [==============================] - 65s 238ms/step - loss: 0.5132 - accuracy: 0.8214 - val_loss: 0.6348 - val_accuracy: 0.7826\n",
      "Epoch 20/30\n",
      "274/274 [==============================] - 65s 239ms/step - loss: 0.5001 - accuracy: 0.8237 - val_loss: 0.6291 - val_accuracy: 0.7831\n",
      "Epoch 21/30\n",
      "274/274 [==============================] - 64s 235ms/step - loss: 0.4832 - accuracy: 0.8310 - val_loss: 0.6477 - val_accuracy: 0.7815\n",
      "Epoch 22/30\n",
      "274/274 [==============================] - 64s 234ms/step - loss: 0.4726 - accuracy: 0.8340 - val_loss: 0.6308 - val_accuracy: 0.7887\n",
      "Epoch 23/30\n",
      "274/274 [==============================] - 64s 235ms/step - loss: 0.4581 - accuracy: 0.8381 - val_loss: 0.6354 - val_accuracy: 0.7854\n",
      "Epoch 24/30\n",
      "274/274 [==============================] - 66s 239ms/step - loss: 0.4473 - accuracy: 0.8443 - val_loss: 0.6496 - val_accuracy: 0.7802\n",
      "Epoch 25/30\n",
      "274/274 [==============================] - 65s 238ms/step - loss: 0.4375 - accuracy: 0.8445 - val_loss: 0.6916 - val_accuracy: 0.7744\n",
      "Epoch 26/30\n",
      "274/274 [==============================] - 66s 242ms/step - loss: 0.4384 - accuracy: 0.8449 - val_loss: 0.6431 - val_accuracy: 0.7881\n",
      "Epoch 27/30\n",
      "274/274 [==============================] - 120s 438ms/step - loss: 0.4220 - accuracy: 0.8512 - val_loss: 0.6608 - val_accuracy: 0.7821\n",
      "Epoch 28/30\n",
      "274/274 [==============================] - 2652s 10s/step - loss: 0.4041 - accuracy: 0.8584 - val_loss: 0.6450 - val_accuracy: 0.7903\n",
      "Epoch 29/30\n",
      "274/274 [==============================] - 61s 222ms/step - loss: 0.4003 - accuracy: 0.8590 - val_loss: 0.6398 - val_accuracy: 0.7896\n",
      "Epoch 30/30\n",
      "274/274 [==============================] - 57s 208ms/step - loss: 0.3907 - accuracy: 0.8637 - val_loss: 0.6519 - val_accuracy: 0.7914\n"
     ]
    },
    {
     "data": {
      "text/plain": [
       "<keras.callbacks.History at 0x14f989f3580>"
      ]
     },
     "execution_count": 104,
     "metadata": {},
     "output_type": "execute_result"
    }
   ],
   "source": [
    "or_model.fit(xTrainr, yTrain, batch_size=128, epochs=30, validation_split=0.3,\n",
    "             validation_data=(xTestr, yTest))"
   ]
  },
  {
   "cell_type": "markdown",
   "metadata": {},
   "source": [
    "## Evaluation of the model on the basis of the test data set"
   ]
  },
  {
   "cell_type": "code",
   "execution_count": 105,
   "metadata": {},
   "outputs": [
    {
     "name": "stdout",
     "output_type": "stream",
     "text": [
      "313/313 [==============================] - 5s 15ms/step - loss: 198.7885 - accuracy: 0.5061\n"
     ]
    },
    {
     "data": {
      "text/plain": [
       "[198.78846740722656, 0.5060999989509583]"
      ]
     },
     "execution_count": 105,
     "metadata": {},
     "output_type": "execute_result"
    }
   ],
   "source": [
    "or_model.evaluate(xTest, yTest)"
   ]
  },
  {
   "cell_type": "markdown",
   "metadata": {},
   "source": [
    "## The model making predictions"
   ]
  },
  {
   "cell_type": "code",
   "execution_count": 120,
   "metadata": {},
   "outputs": [
    {
     "name": "stdout",
     "output_type": "stream",
     "text": [
      "The predictions arrays are:-\n",
      " [[1.38543857e-10 1.62650296e-10 4.60280580e-06 1.56377163e-03\n",
      "  2.43626239e-08 9.98371065e-01 1.17655681e-08 6.04235429e-05\n",
      "  6.93703273e-09 6.20449399e-08]\n",
      " [9.82645869e-01 1.47834326e-05 6.19713799e-04 3.11944095e-05\n",
      "  8.91878699e-06 3.80871938e-07 3.63596450e-06 3.62297419e-06\n",
      "  1.52992634e-02 1.37260905e-03]\n",
      " [1.48830330e-02 2.34705061e-02 2.36468818e-02 2.24609524e-01\n",
      "  5.36386818e-02 1.21797733e-02 4.70059253e-02 1.62451770e-02\n",
      "  5.63778818e-01 2.05416959e-02]\n",
      " [6.48040954e-09 1.92972947e-11 2.80625070e-04 2.65646406e-04\n",
      "  9.30158257e-01 2.04335861e-02 2.17801767e-06 4.88597788e-02\n",
      "  3.41335338e-09 1.47707813e-09]\n",
      " [4.02979478e-02 1.93808210e-05 1.66881626e-04 4.86575073e-06\n",
      "  2.54055271e-06 1.59862722e-07 1.63520610e-06 1.35325934e-06\n",
      "  9.59279895e-01 2.25449796e-04]\n",
      " [4.81963025e-06 9.99137998e-01 5.47605516e-09 2.82604145e-08\n",
      "  2.52884685e-10 3.97140854e-09 3.74867746e-08 1.69467995e-08\n",
      "  1.08860666e-04 7.48260121e-04]\n",
      " [2.06363482e-09 9.99995708e-01 1.53163940e-13 1.23833181e-12\n",
      "  5.38727142e-16 2.05102930e-14 8.39945821e-12 1.47899000e-14\n",
      "  1.66415305e-07 4.13912676e-06]\n",
      " [4.11227196e-02 9.21811591e-07 1.76013075e-03 1.45539005e-07\n",
      "  4.95904771e-07 1.78881301e-08 1.10268979e-06 1.71022130e-08\n",
      "  9.57113981e-01 4.56976551e-07]\n",
      " [2.56564673e-02 5.76873496e-02 1.48472805e-02 1.63598239e-01\n",
      "  3.24422568e-02 3.00574582e-02 8.19314271e-02 1.10568125e-02\n",
      "  1.27650544e-01 4.55072194e-01]]\n"
     ]
    }
   ],
   "source": [
    "classesIdx = range(0, 10)\n",
    "# zipping the classesIdx and classes to make a dictionary of class_label\n",
    "classLabels = dict(zip(classesIdx, classes))\n",
    "\n",
    "# generating batch of 9 images to predict\n",
    "batch = xTestr[1000: 1009]\n",
    "labels = np.argmax(yTest[100: 109], axis=(-1))\n",
    "\n",
    "# making predictions\n",
    "yPredictions = or_model.predict(batch)\n",
    "\n",
    "print(\"The predictions arrays are:-\\n\", yPredictions)"
   ]
  },
  {
   "cell_type": "code",
   "execution_count": 121,
   "metadata": {},
   "outputs": [
    {
     "name": "stdout",
     "output_type": "stream",
     "text": [
      "Predicted class of the object: automobile\n",
      "Correct Prediction!\n",
      "Predicted class of the object: truck\n",
      "Correct Prediction!\n",
      "Predicted class of the object: frog\n",
      "Correct Prediction!\n",
      "Predicted class of the object: deer\n",
      "Incorrect Prediction!\n",
      "Predicted class of the object: automobile\n",
      "Correct Prediction!\n"
     ]
    },
    {
     "data": {
      "image/png": "[encoded data removed]",
      "text/plain": [
       "<Figure size 1080x108 with 1 Axes>"
      ]
     },
     "metadata": {
      "needs_background": "light"
     },
     "output_type": "display_data"
    },
    {
     "data": {
      "image/png": "[encoded data removed]",
      "text/plain": [
       "<Figure size 1080x108 with 1 Axes>"
      ]
     },
     "metadata": {
      "needs_background": "light"
     },
     "output_type": "display_data"
    },
    {
     "data": {
      "image/png": "[encoded data removed]",
      "text/plain": [
       "<Figure size 1080x108 with 1 Axes>"
      ]
     },
     "metadata": {
      "needs_background": "light"
     },
     "output_type": "display_data"
    },
    {
     "data": {
      "image/png": "[encoded data removed]",
      "text/plain": [
       "<Figure size 1080x108 with 1 Axes>"
      ]
     },
     "metadata": {
      "needs_background": "light"
     },
     "output_type": "display_data"
    },
    {
     "data": {
      "image/png": "[encoded data removed]",
      "text/plain": [
       "<Figure size 1080x108 with 1 Axes>"
      ]
     },
     "metadata": {
      "needs_background": "light"
     },
     "output_type": "display_data"
    }
   ],
   "source": [
    "# Checking whether the predictions are correct or not.\n",
    "yPredictions = or_model.predict(xTestr)\n",
    "yPredictedClasses = [np.argmax(probability) for probability in yPredictions]\n",
    "\n",
    "# Function to check if the prediction was correct\n",
    "def ifPredictionCorrect(index):\n",
    "    # plotting the image first\n",
    "    plotImage(xTest, yTestr, index)\n",
    "\n",
    "    print(\"Predicted class of the object:\", classes[yPredictedClasses[index]])\n",
    "    \n",
    "    if classes[yPredictedClasses[index]] == classes[yTestr[index]]:\n",
    "        print(\"Correct Prediction!\")\n",
    "    else:\n",
    "        print(\"Incorrect Prediction!\")\n",
    "\n",
    "ifPredictionCorrect(2000)\n",
    "ifPredictionCorrect(4569)\n",
    "ifPredictionCorrect(4)\n",
    "ifPredictionCorrect(1093)\n",
    "ifPredictionCorrect(9998)"
   ]
  },
  {
   "cell_type": "markdown",
   "metadata": {},
   "source": [
    "## Final Object Detection"
   ]
  },
  {
   "cell_type": "code",
   "execution_count": null,
   "metadata": {},
   "outputs": [],
   "source": [
    "# fig, axs = plt.subplots(3, 3, figsize=(19, 6))\n",
    "# fig.subplots_adjust(hspace=1)\n",
    "# axs = axs.flatten()\n",
    "\n",
    "# for i, img in enumerate(batch):\n",
    "#     for key, value in classLabels.items():\n",
    "#         if classResult[i] == "
   ]
  }
 ],
 "metadata": {
  "interpreter": {
   "hash": "75179d693a8b031e1e584314f1056063b779da9ecb5bb166829d1319e38c6634"
  },
  "kernelspec": {
   "display_name": "Python 3.8.8 64-bit",
   "language": "python",
   "name": "python3"
  },
  "language_info": {
   "codemirror_mode": {
    "name": "ipython",
    "version": 3
   },
   "file_extension": ".py",
   "mimetype": "text/x-python",
   "name": "python",
   "nbconvert_exporter": "python",
   "pygments_lexer": "ipython3",
   "version": "3.8.8"
  },
  "orig_nbformat": 4
 },
 "nbformat": 4,
 "nbformat_minor": 2
}
