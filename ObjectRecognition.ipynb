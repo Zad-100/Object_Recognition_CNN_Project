{
 "cells": [
  {
   "cell_type": "markdown",
   "metadata": {},
   "source": [
    "# This AI model will be able to recognise objects like animals, airplane, ships, etc. and classify them accordingly. The AI model will train and test on CIFAR-10 data-set using Convolutional Neural Network method."
   ]
  },
  {
   "cell_type": "code",
   "execution_count": 1,
   "metadata": {},
   "outputs": [],
   "source": [
    "import tensorflow as tf # package providing the framework for building the model"
   ]
  },
  {
   "cell_type": "markdown",
   "metadata": {},
   "source": [
    "## Loading CIFAR-10 Data-set. It consists of 50000 training coloured images and 10000 testing coloured (RGB) images; each of size 32x32. There are 10 classes viz. \"airplane\", \"automobile\", \"bird\", \"cat\", \"deer\", \"dog\", \"frog\", \"horse\", \"ship\", \"truck\"\n",
    "\n",
    "### Tensorflow already has it. We can load it using Keras."
   ]
  },
  {
   "cell_type": "code",
   "execution_count": 2,
   "metadata": {},
   "outputs": [],
   "source": [
    "cifar = tf.keras.datasets.cifar10\n",
    "\n",
    "# Unpacking and splitting the data-sets into training and testing images\n",
    "(xTrain, yTrain), (xTest, yTest) = cifar.load_data()"
   ]
  },
  {
   "cell_type": "code",
   "execution_count": 3,
   "metadata": {},
   "outputs": [
    {
     "name": "stdout",
     "output_type": "stream",
     "text": [
      "The length of training set (x) is 50000\n",
      "The length of training set (y) is 50000\n",
      "The length of testing set (x) is 10000\n",
      "The length of testing set (y) is 10000\n",
      "\n",
      "The shape of the 6th element in the training set is (32, 32, 3)\n",
      "The 6th element from the training set consists of:-\n",
      " [[[159 102 101]\n",
      "  [150  91  95]\n",
      "  [153  95  97]\n",
      "  ...\n",
      "  [ 91  71  56]\n",
      "  [ 74  63  55]\n",
      "  [ 76  58  55]]\n",
      "\n",
      " [[142  75  68]\n",
      "  [146  72  66]\n",
      "  [155  76  65]\n",
      "  ...\n",
      "  [127 105  71]\n",
      "  [122 111  93]\n",
      "  [ 86  69  61]]\n",
      "\n",
      " [[109  67  75]\n",
      "  [ 99  58  60]\n",
      "  [105  59  52]\n",
      "  ...\n",
      "  [137 112  80]\n",
      "  [163 132 105]\n",
      "  [ 93  72  71]]\n",
      "\n",
      " ...\n",
      "\n",
      " [[244 129  70]\n",
      "  [240 123  65]\n",
      "  [241 122  65]\n",
      "  ...\n",
      "  [156  42  15]\n",
      "  [179  59  26]\n",
      "  [200  73  36]]\n",
      "\n",
      " [[246 133  74]\n",
      "  [243 128  72]\n",
      "  [243 127  70]\n",
      "  ...\n",
      "  [162  44  14]\n",
      "  [178  56  22]\n",
      "  [192  65  27]]\n",
      "\n",
      " [[246 139  82]\n",
      "  [243 133  78]\n",
      "  [244 132  77]\n",
      "  ...\n",
      "  [166  47  14]\n",
      "  [173  51  17]\n",
      "  [182  57  19]]]\n"
     ]
    }
   ],
   "source": [
    "# CIFAR-10 data contains 50000 training samples and 10000 testing samples\n",
    "print(\"The length of training set (x) is\", len(xTrain))\n",
    "print(\"The length of training set (y) is\", len(yTrain))\n",
    "print(\"The length of testing set (x) is\", len(xTest))\n",
    "print(\"The length of testing set (y) is\", len(yTest), end=\"\\n\\n\")\n",
    "\n",
    "# Shape of the image is 32x32\n",
    "print(\"The shape of the 6th element in the training set is\", xTrain[5].shape)\n",
    "print(\"The 6th element from the training set consists of:-\\n\", xTrain[5])"
   ]
  },
  {
   "cell_type": "markdown",
   "metadata": {},
   "source": [
    "## Importing matplotlib to plot and view images and numpy to handle arrays and other mathematical operations"
   ]
  },
  {
   "cell_type": "code",
   "execution_count": 4,
   "metadata": {},
   "outputs": [],
   "source": [
    "import matplotlib.pyplot as plt\n",
    "import numpy as np"
   ]
  },
  {
   "cell_type": "markdown",
   "metadata": {},
   "source": [
    "## Visualising some sample images"
   ]
  },
  {
   "cell_type": "code",
   "execution_count": 5,
   "metadata": {},
   "outputs": [
    {
     "name": "stdout",
     "output_type": "stream",
     "text": [
      "The original and reshaped train versions:\n",
      "[[6]\n",
      " [9]\n",
      " [9]\n",
      " [4]]\n",
      "[6 9 9 4]\n",
      "The original and reshaped test versions:\n",
      "[[3]\n",
      " [8]\n",
      " [8]\n",
      " [0]]\n",
      "[3 8 8 0]\n"
     ]
    }
   ],
   "source": [
    "# First we will make a tuple named 'classes' which will store all the class\n",
    "# names of the data-set in the same order as is in CIFAR-10 data-set\n",
    "classes = (\n",
    "    \"airplane\",\n",
    "    \"automobile\",\n",
    "    \"bird\",\n",
    "    \"cat\",\n",
    "    \"deer\",\n",
    "    \"dog\",\n",
    "    \"frog\",\n",
    "    \"horse\",\n",
    "    \"ship\",\n",
    "    \"truck\"\n",
    ")\n",
    "\n",
    "# now reshaping yTrain and yTest so that it becomes a one-dimensional array and\n",
    "# we can access its data with just one index\n",
    "yTrainr = yTrain.reshape(-1, )\n",
    "yTestr = yTest.reshape(-1, )\n",
    "print(\"The original and reshaped train versions:\", yTrain[: 4], yTrainr[: 4],\n",
    "      sep=\"\\n\")\n",
    "print(\"The original and reshaped test versions:\", yTest[: 4], yTestr[: 4],\n",
    "      sep=\"\\n\")\n",
    "\n",
    "# function to plot an image\n",
    "# x and y can be training/test sets index is the index whose image we want to\n",
    "# plot\n",
    "def plotImage(x, y, index):\n",
    "    plt.figure(figsize=(15, 1.5))\n",
    "    plt.imshow(x[index])\n",
    "    plt.xlabel(classes[y[index]])"
   ]
  },
  {
   "cell_type": "code",
   "execution_count": 6,
   "metadata": {},
   "outputs": [
    {
     "data": {
      "image/png": "[encoded data removed]",
      "text/plain": [
       "<Figure size 1080x108 with 1 Axes>"
      ]
     },
     "metadata": {
      "needs_background": "light"
     },
     "output_type": "display_data"
    },
    {
     "data": {
      "image/png": "[encoded data removed]",
      "text/plain": [
       "<Figure size 1080x108 with 1 Axes>"
      ]
     },
     "metadata": {
      "needs_background": "light"
     },
     "output_type": "display_data"
    },
    {
     "data": {
      "image/png": "[encoded data removed]",
      "text/plain": [
       "<Figure size 1080x108 with 1 Axes>"
      ]
     },
     "metadata": {
      "needs_background": "light"
     },
     "output_type": "display_data"
    },
    {
     "data": {
      "image/png": "[encoded data removed]",
      "text/plain": [
       "<Figure size 1080x108 with 1 Axes>"
      ]
     },
     "metadata": {
      "needs_background": "light"
     },
     "output_type": "display_data"
    }
   ],
   "source": [
    "# Plotting some images\n",
    "plotImage(xTrain, yTrainr, 10)\n",
    "plotImage(xTest, yTestr, 10)\n",
    "plotImage(xTrain, yTrainr, 6969)\n",
    "plotImage(xTest, yTestr, 4987)"
   ]
  },
  {
   "cell_type": "markdown",
   "metadata": {},
   "source": [
    "## Resizing image to make it suitable for applying Convolution operations"
   ]
  },
  {
   "cell_type": "code",
   "execution_count": 7,
   "metadata": {},
   "outputs": [
    {
     "name": "stdout",
     "output_type": "stream",
     "text": [
      "Training samples: (50000, 32, 32, 3)\n",
      "Testing samples: (10000, 32, 32, 3)\n"
     ]
    }
   ],
   "source": [
    "IMG_SIZE = 32\n",
    "# increasing by one dimension (making it 4-dimensional) so that it can work with\n",
    "# Keras API\n",
    "xTrainr = np.array(xTrain).reshape(-1, IMG_SIZE, IMG_SIZE, 3)\n",
    "xTestr = np.array(xTest).reshape(-1, IMG_SIZE, IMG_SIZE, 3)\n",
    "\n",
    "print(\"Training samples:\", xTrainr.shape)\n",
    "print(\"Testing samples:\", xTestr.shape)"
   ]
  },
  {
   "cell_type": "markdown",
   "metadata": {},
   "source": [
    "## Scaling/Normalisation: division by 255 to bring in the range 0 to 1"
   ]
  },
  {
   "cell_type": "code",
   "execution_count": 8,
   "metadata": {},
   "outputs": [
    {
     "name": "stdout",
     "output_type": "stream",
     "text": [
      "The reshaped and normalised (1st training image) image is:\n",
      "[[[0.23137255 0.24313725 0.24705882]\n",
      "  [0.16862745 0.18039216 0.17647059]\n",
      "  [0.19607843 0.18823529 0.16862745]\n",
      "  ...\n",
      "  [0.61960784 0.51764706 0.42352941]\n",
      "  [0.59607843 0.49019608 0.4       ]\n",
      "  [0.58039216 0.48627451 0.40392157]]\n",
      "\n",
      " [[0.0627451  0.07843137 0.07843137]\n",
      "  [0.         0.         0.        ]\n",
      "  [0.07058824 0.03137255 0.        ]\n",
      "  ...\n",
      "  [0.48235294 0.34509804 0.21568627]\n",
      "  [0.46666667 0.3254902  0.19607843]\n",
      "  [0.47843137 0.34117647 0.22352941]]\n",
      "\n",
      " [[0.09803922 0.09411765 0.08235294]\n",
      "  [0.0627451  0.02745098 0.        ]\n",
      "  [0.19215686 0.10588235 0.03137255]\n",
      "  ...\n",
      "  [0.4627451  0.32941176 0.19607843]\n",
      "  [0.47058824 0.32941176 0.19607843]\n",
      "  [0.42745098 0.28627451 0.16470588]]\n",
      "\n",
      " ...\n",
      "\n",
      " [[0.81568627 0.66666667 0.37647059]\n",
      "  [0.78823529 0.6        0.13333333]\n",
      "  [0.77647059 0.63137255 0.10196078]\n",
      "  ...\n",
      "  [0.62745098 0.52156863 0.2745098 ]\n",
      "  [0.21960784 0.12156863 0.02745098]\n",
      "  [0.20784314 0.13333333 0.07843137]]\n",
      "\n",
      " [[0.70588235 0.54509804 0.37647059]\n",
      "  [0.67843137 0.48235294 0.16470588]\n",
      "  [0.72941176 0.56470588 0.11764706]\n",
      "  ...\n",
      "  [0.72156863 0.58039216 0.36862745]\n",
      "  [0.38039216 0.24313725 0.13333333]\n",
      "  [0.3254902  0.20784314 0.13333333]]\n",
      "\n",
      " [[0.69411765 0.56470588 0.45490196]\n",
      "  [0.65882353 0.50588235 0.36862745]\n",
      "  [0.70196078 0.55686275 0.34117647]\n",
      "  ...\n",
      "  [0.84705882 0.72156863 0.54901961]\n",
      "  [0.59215686 0.4627451  0.32941176]\n",
      "  [0.48235294 0.36078431 0.28235294]]]\n",
      "\n",
      "The reshaped and normalised (1st testing image) image is:\n",
      "[[[0.61960784 0.43921569 0.19215686]\n",
      "  [0.62352941 0.43529412 0.18431373]\n",
      "  [0.64705882 0.45490196 0.2       ]\n",
      "  ...\n",
      "  [0.5372549  0.37254902 0.14117647]\n",
      "  [0.49411765 0.35686275 0.14117647]\n",
      "  [0.45490196 0.33333333 0.12941176]]\n",
      "\n",
      " [[0.59607843 0.43921569 0.2       ]\n",
      "  [0.59215686 0.43137255 0.15686275]\n",
      "  [0.62352941 0.44705882 0.17647059]\n",
      "  ...\n",
      "  [0.53333333 0.37254902 0.12156863]\n",
      "  [0.49019608 0.35686275 0.1254902 ]\n",
      "  [0.46666667 0.34509804 0.13333333]]\n",
      "\n",
      " [[0.59215686 0.43137255 0.18431373]\n",
      "  [0.59215686 0.42745098 0.12941176]\n",
      "  [0.61960784 0.43529412 0.14117647]\n",
      "  ...\n",
      "  [0.54509804 0.38431373 0.13333333]\n",
      "  [0.50980392 0.37254902 0.13333333]\n",
      "  [0.47058824 0.34901961 0.12941176]]\n",
      "\n",
      " ...\n",
      "\n",
      " [[0.26666667 0.48627451 0.69411765]\n",
      "  [0.16470588 0.39215686 0.58039216]\n",
      "  [0.12156863 0.34509804 0.5372549 ]\n",
      "  ...\n",
      "  [0.14901961 0.38039216 0.57254902]\n",
      "  [0.05098039 0.25098039 0.42352941]\n",
      "  [0.15686275 0.33333333 0.49803922]]\n",
      "\n",
      " [[0.23921569 0.45490196 0.65882353]\n",
      "  [0.19215686 0.4        0.58039216]\n",
      "  [0.1372549  0.33333333 0.51764706]\n",
      "  ...\n",
      "  [0.10196078 0.32156863 0.50980392]\n",
      "  [0.11372549 0.32156863 0.49411765]\n",
      "  [0.07843137 0.25098039 0.41960784]]\n",
      "\n",
      " [[0.21176471 0.41960784 0.62745098]\n",
      "  [0.21960784 0.41176471 0.58431373]\n",
      "  [0.17647059 0.34901961 0.51764706]\n",
      "  ...\n",
      "  [0.09411765 0.30196078 0.48627451]\n",
      "  [0.13333333 0.32941176 0.50588235]\n",
      "  [0.08235294 0.2627451  0.43137255]]]\n"
     ]
    }
   ],
   "source": [
    "xTrainr = xTrainr / 255\n",
    "xTestr = xTestr / 255\n",
    "\n",
    "print(\"The reshaped and normalised (1st training image) image is:\", xTrainr[0],\n",
    "      sep=\"\\n\", end=\"\\n\\n\")\n",
    "print(\"The reshaped and normalised (1st testing image) image is:\", xTestr[0],\n",
    "      sep=\"\\n\")"
   ]
  },
  {
   "cell_type": "markdown",
   "metadata": {},
   "source": [
    "## Creating the Deep Neural Netwrok and training on 50000 training samples"
   ]
  },
  {
   "cell_type": "code",
   "execution_count": 9,
   "metadata": {},
   "outputs": [],
   "source": [
    "# Importing the required functions\n",
    "from tensorflow.keras.models import Sequential\n",
    "from tensorflow.keras.layers import Dense, Activation, MaxPool2D\n",
    "from tensorflow.keras.layers import Flatten, Conv2D, Dropout"
   ]
  },
  {
   "cell_type": "code",
   "execution_count": 10,
   "metadata": {},
   "outputs": [
    {
     "name": "stdout",
     "output_type": "stream",
     "text": [
      "Model: \"sequential\"\n",
      "_________________________________________________________________\n",
      " Layer (type)                Output Shape              Param #   \n",
      "=================================================================\n",
      " conv2d (Conv2D)             (None, 32, 32, 50)        1400      \n",
      "                                                                 \n",
      " max_pooling2d (MaxPooling2D  (None, 16, 16, 50)       0         \n",
      " )                                                               \n",
      "                                                                 \n",
      " conv2d_1 (Conv2D)           (None, 16, 16, 100)       45100     \n",
      "                                                                 \n",
      " max_pooling2d_1 (MaxPooling  (None, 8, 8, 100)        0         \n",
      " 2D)                                                             \n",
      "                                                                 \n",
      " dropout (Dropout)           (None, 8, 8, 100)         0         \n",
      "                                                                 \n",
      " conv2d_2 (Conv2D)           (None, 8, 8, 150)         135150    \n",
      "                                                                 \n",
      " max_pooling2d_2 (MaxPooling  (None, 4, 4, 150)        0         \n",
      " 2D)                                                             \n",
      "                                                                 \n",
      " dropout_1 (Dropout)         (None, 4, 4, 150)         0         \n",
      "                                                                 \n",
      " flatten (Flatten)           (None, 2400)              0         \n",
      "                                                                 \n",
      " dense (Dense)               (None, 400)               960400    \n",
      "                                                                 \n",
      " dropout_2 (Dropout)         (None, 400)               0         \n",
      "                                                                 \n",
      " dense_1 (Dense)             (None, 200)               80200     \n",
      "                                                                 \n",
      " dropout_3 (Dropout)         (None, 200)               0         \n",
      "                                                                 \n",
      " dense_2 (Dense)             (None, 10)                2010      \n",
      "                                                                 \n",
      " activation (Activation)     (None, 10)                0         \n",
      "                                                                 \n",
      "=================================================================\n",
      "Total params: 1,224,260\n",
      "Trainable params: 1,224,260\n",
      "Non-trainable params: 0\n",
      "_________________________________________________________________\n"
     ]
    }
   ],
   "source": [
    "# Creating a simple neural network\n",
    "or_model = Sequential() # Sequential allows to build a model layer by layer\n",
    "\n",
    "# First Convolutional Layer\n",
    "# (input layer size is mentioned for only first layer)\n",
    "or_model.add(Conv2D(50, kernel_size=(3, 3), input_shape=(32, 32, 3),\n",
    "                    strides=(1, 1), padding='same', activation='relu'))\n",
    "# maxpooling single maximum value of 2x2\n",
    "or_model.add(MaxPool2D(pool_size=(2, 2))) # selects the maximum element from\n",
    "                                          # each region of the feature map\n",
    "                                          # reducing the size by half\n",
    "\n",
    "# Second Convolutional Layer\n",
    "or_model.add(Conv2D(100, kernel_size=(3, 3), strides=(1, 1), padding='same',\n",
    "                    activation='relu'))\n",
    "or_model.add(MaxPool2D(pool_size=(2, 2)))\n",
    "or_model.add(Dropout(0.3)) # to avoid overfitting\n",
    "\n",
    "# Third Convolutional Layer\n",
    "or_model.add(Conv2D(150, kernel_size=(3, 3), strides=(1, 1), padding='same',\n",
    "                    activation='relu'))\n",
    "or_model.add(MaxPool2D(pool_size=(2, 2)))\n",
    "or_model.add(Dropout(0.3))\n",
    "\n",
    "# Now we shall flatten (transfroming into a single column) the feature map\n",
    "# matrix before connecting the layers fully\n",
    "or_model.add(Flatten())\n",
    "\n",
    "# Creating the dense layer (fully connecting the each layer to the next layer)\n",
    "or_model.add(Dense(400, activation='relu')) # connecting first layer\n",
    "or_model.add(Dropout(0.4))\n",
    "\n",
    "or_model.add(Dense(200, activation='relu')) # connecting layer 2\n",
    "or_model.add(Dropout(0.4))\n",
    "\n",
    "# Last fully connected layer, where the output must be equal to number of\n",
    "# classes, 10, that is\n",
    "or_model.add(Dense(10))\n",
    "or_model.add(Activation(\"softmax\")) # class probabilities\n",
    "\n",
    "# Displaying the or_model summary\n",
    "or_model.summary()"
   ]
  },
  {
   "cell_type": "markdown",
   "metadata": {},
   "source": [
    "## Compiling the AI model"
   ]
  },
  {
   "cell_type": "code",
   "execution_count": 11,
   "metadata": {},
   "outputs": [],
   "source": [
    "## Compiling our AI model\n",
    "or_model.compile(\n",
    "    optimizer=\"adam\", # controls the learning rate\n",
    "    loss=\"sparse_categorical_crossentropy\", # estimates the loss of the model\n",
    "    metrics=['accuracy']\n",
    ")"
   ]
  },
  {
   "cell_type": "markdown",
   "metadata": {},
   "source": [
    "## Training the model with the training dataset"
   ]
  },
  {
   "cell_type": "code",
   "execution_count": 12,
   "metadata": {},
   "outputs": [
    {
     "name": "stdout",
     "output_type": "stream",
     "text": [
      "Epoch 1/30\n",
      "274/274 [==============================] - 77s 278ms/step - loss: 1.8513 - accuracy: 0.3073 - val_loss: 1.5683 - val_accuracy: 0.4235\n",
      "Epoch 2/30\n",
      "274/274 [==============================] - 64s 232ms/step - loss: 1.4212 - accuracy: 0.4809 - val_loss: 1.2369 - val_accuracy: 0.5566\n",
      "Epoch 3/30\n",
      "274/274 [==============================] - 64s 236ms/step - loss: 1.2311 - accuracy: 0.5554 - val_loss: 1.0485 - val_accuracy: 0.6291\n",
      "Epoch 4/30\n",
      "274/274 [==============================] - 63s 228ms/step - loss: 1.1048 - accuracy: 0.6065 - val_loss: 1.0034 - val_accuracy: 0.6508\n",
      "Epoch 5/30\n",
      "274/274 [==============================] - 62s 225ms/step - loss: 1.0085 - accuracy: 0.6447 - val_loss: 0.9274 - val_accuracy: 0.6765\n",
      "Epoch 6/30\n",
      "274/274 [==============================] - 64s 232ms/step - loss: 0.9288 - accuracy: 0.6773 - val_loss: 0.8271 - val_accuracy: 0.7163\n",
      "Epoch 7/30\n",
      "274/274 [==============================] - 60s 220ms/step - loss: 0.8870 - accuracy: 0.6912 - val_loss: 0.7974 - val_accuracy: 0.7251\n",
      "Epoch 8/30\n",
      "274/274 [==============================] - 59s 217ms/step - loss: 0.8308 - accuracy: 0.7093 - val_loss: 0.7968 - val_accuracy: 0.7223\n",
      "Epoch 9/30\n",
      "274/274 [==============================] - 62s 226ms/step - loss: 0.7949 - accuracy: 0.7244 - val_loss: 0.7427 - val_accuracy: 0.7428\n",
      "Epoch 10/30\n",
      "274/274 [==============================] - 68s 249ms/step - loss: 0.7468 - accuracy: 0.7395 - val_loss: 0.7231 - val_accuracy: 0.7503\n",
      "Epoch 11/30\n",
      "274/274 [==============================] - 61s 221ms/step - loss: 0.7306 - accuracy: 0.7455 - val_loss: 0.6927 - val_accuracy: 0.7639\n",
      "Epoch 12/30\n",
      "274/274 [==============================] - 65s 236ms/step - loss: 0.6980 - accuracy: 0.7560 - val_loss: 0.7044 - val_accuracy: 0.7580\n",
      "Epoch 13/30\n",
      "274/274 [==============================] - 58s 213ms/step - loss: 0.6762 - accuracy: 0.7621 - val_loss: 0.7015 - val_accuracy: 0.7607\n",
      "Epoch 14/30\n",
      "274/274 [==============================] - 57s 209ms/step - loss: 0.6652 - accuracy: 0.7698 - val_loss: 0.6674 - val_accuracy: 0.7728\n",
      "Epoch 15/30\n",
      "274/274 [==============================] - 58s 212ms/step - loss: 0.6270 - accuracy: 0.7815 - val_loss: 0.6720 - val_accuracy: 0.7699\n",
      "Epoch 16/30\n",
      "274/274 [==============================] - 58s 213ms/step - loss: 0.6070 - accuracy: 0.7854 - val_loss: 0.6594 - val_accuracy: 0.7771\n",
      "Epoch 17/30\n",
      "274/274 [==============================] - 55s 202ms/step - loss: 0.5961 - accuracy: 0.7910 - val_loss: 0.6717 - val_accuracy: 0.7717\n",
      "Epoch 18/30\n",
      "274/274 [==============================] - 54s 198ms/step - loss: 0.5808 - accuracy: 0.7972 - val_loss: 0.6735 - val_accuracy: 0.7721\n",
      "Epoch 19/30\n",
      "274/274 [==============================] - 57s 208ms/step - loss: 0.5669 - accuracy: 0.8012 - val_loss: 0.6788 - val_accuracy: 0.7731\n",
      "Epoch 20/30\n",
      "274/274 [==============================] - 57s 206ms/step - loss: 0.5447 - accuracy: 0.8077 - val_loss: 0.6288 - val_accuracy: 0.7876\n",
      "Epoch 21/30\n",
      "274/274 [==============================] - 60s 218ms/step - loss: 0.5394 - accuracy: 0.8119 - val_loss: 0.6504 - val_accuracy: 0.7766\n",
      "Epoch 22/30\n",
      "274/274 [==============================] - 59s 216ms/step - loss: 0.5235 - accuracy: 0.8176 - val_loss: 0.6320 - val_accuracy: 0.7838\n",
      "Epoch 23/30\n",
      "274/274 [==============================] - 71s 260ms/step - loss: 0.5085 - accuracy: 0.8230 - val_loss: 0.6463 - val_accuracy: 0.7799\n",
      "Epoch 24/30\n",
      "274/274 [==============================] - 75s 275ms/step - loss: 0.5024 - accuracy: 0.8225 - val_loss: 0.6479 - val_accuracy: 0.7813\n",
      "Epoch 25/30\n",
      "274/274 [==============================] - 72s 263ms/step - loss: 0.4923 - accuracy: 0.8255 - val_loss: 0.6543 - val_accuracy: 0.7787\n",
      "Epoch 26/30\n",
      "274/274 [==============================] - 74s 271ms/step - loss: 0.4822 - accuracy: 0.8284 - val_loss: 0.6332 - val_accuracy: 0.7871\n",
      "Epoch 27/30\n",
      "274/274 [==============================] - 72s 261ms/step - loss: 0.4662 - accuracy: 0.8348 - val_loss: 0.6144 - val_accuracy: 0.7943\n",
      "Epoch 28/30\n",
      "274/274 [==============================] - 73s 266ms/step - loss: 0.4616 - accuracy: 0.8361 - val_loss: 0.6298 - val_accuracy: 0.7903\n",
      "Epoch 29/30\n",
      "274/274 [==============================] - 78s 284ms/step - loss: 0.4539 - accuracy: 0.8409 - val_loss: 0.6581 - val_accuracy: 0.7845\n",
      "Epoch 30/30\n",
      "274/274 [==============================] - 74s 272ms/step - loss: 0.4400 - accuracy: 0.8437 - val_loss: 0.6622 - val_accuracy: 0.7816\n"
     ]
    },
    {
     "data": {
      "text/plain": [
       "<keras.callbacks.History at 0x1ae9d309cd0>"
      ]
     },
     "execution_count": 12,
     "metadata": {},
     "output_type": "execute_result"
    }
   ],
   "source": [
    "or_model.fit(xTrainr, yTrain, batch_size=128, epochs=30, validation_split=0.3,\n",
    "             validation_data=(xTestr, yTest))"
   ]
  },
  {
   "cell_type": "markdown",
   "metadata": {},
   "source": [
    "## Evaluation of the model on the basis of the test data set"
   ]
  },
  {
   "cell_type": "code",
   "execution_count": 17,
   "metadata": {},
   "outputs": [
    {
     "name": "stdout",
     "output_type": "stream",
     "text": [
      "313/313 [==============================] - 4s 11ms/step - loss: 0.6970 - accuracy: 0.7778\n"
     ]
    },
    {
     "data": {
      "text/plain": [
       "[0.6969910860061646, 0.7778000235557556]"
      ]
     },
     "execution_count": 17,
     "metadata": {},
     "output_type": "execute_result"
    }
   ],
   "source": [
    "or_model.evaluate(xTestr, yTest)"
   ]
  },
  {
   "cell_type": "markdown",
   "metadata": {},
   "source": [
    "## The model making predictions"
   ]
  },
  {
   "cell_type": "code",
   "execution_count": 14,
   "metadata": {},
   "outputs": [
    {
     "name": "stdout",
     "output_type": "stream",
     "text": [
      "The predictions arrays are:-\n",
      " [[1.51102533e-10 3.18091636e-10 7.93337733e-07 9.96774901e-03\n",
      "  1.70583618e-07 9.90003645e-01 2.84607268e-07 2.72571815e-05\n",
      "  6.10230311e-10 1.40333425e-08]\n",
      " [9.63672578e-01 3.34052625e-03 3.86195898e-04 5.58993634e-06\n",
      "  3.83938532e-05 1.78448403e-07 3.76847638e-05 3.89335628e-06\n",
      "  2.88634263e-02 3.65145504e-03]\n",
      " [5.92597090e-02 7.04612210e-02 8.70864373e-03 8.81474987e-02\n",
      "  5.02756536e-02 1.57895721e-02 1.58604681e-02 5.80181088e-03\n",
      "  4.89940941e-01 1.95754454e-01]\n",
      " [5.67188465e-08 2.17970003e-10 2.46305775e-04 4.99861599e-05\n",
      "  7.70193279e-01 4.05648537e-03 4.91399851e-06 2.25448877e-01\n",
      "  2.93507840e-09 1.80536901e-08]\n",
      " [7.52905989e-03 1.81520852e-04 1.41527689e-05 9.72482121e-06\n",
      "  2.17488537e-06 3.29293101e-07 1.15710827e-06 2.80022874e-07\n",
      "  9.89539444e-01 2.72215228e-03]\n",
      " [2.78503217e-06 9.74983871e-01 7.54087921e-08 5.59260833e-08\n",
      "  9.36907227e-08 9.75054348e-09 3.97151553e-07 1.40356411e-08\n",
      "  8.41815418e-05 2.49285176e-02]\n",
      " [4.37772734e-08 9.98663783e-01 2.89900726e-09 4.24860858e-09\n",
      "  1.00154629e-07 2.38875097e-09 2.43467480e-06 2.57534619e-11\n",
      "  3.43597567e-05 1.29929720e-03]\n",
      " [7.36762071e-03 1.01441001e-04 2.38651852e-03 2.12922278e-05\n",
      "  3.93374685e-05 5.33652155e-06 1.54948808e-04 4.85053363e-07\n",
      "  9.89901662e-01 2.14142474e-05]\n",
      " [3.48137226e-03 3.09254676e-02 7.16799125e-02 8.49605948e-02\n",
      "  2.07213219e-02 1.04989726e-02 1.27376795e-01 1.55866956e-02\n",
      "  2.03642398e-02 6.14404678e-01]]\n"
     ]
    }
   ],
   "source": [
    "classesIdx = range(0, 10)\n",
    "# zipping the classesIdx and classes to make a dictionary of class_label\n",
    "classLabels = dict(zip(classesIdx, classes))\n",
    "\n",
    "# generating batch of 9 images to predict\n",
    "batch = xTestr[1000: 1009]\n",
    "labels = np.argmax(yTest[100: 109], axis=(-1))\n",
    "\n",
    "# making predictions\n",
    "yPredictions = or_model.predict(batch)\n",
    "\n",
    "print(\"The predictions arrays are:-\\n\", yPredictions)"
   ]
  },
  {
   "cell_type": "code",
   "execution_count": 23,
   "metadata": {},
   "outputs": [
    {
     "name": "stdout",
     "output_type": "stream",
     "text": [
      "Actual class of the object: horse\n",
      "Predicted class of the object: horse\n",
      "Correct Prediction!\n",
      "\n",
      "Actual class of the object: cat\n",
      "Predicted class of the object: truck\n",
      "Incorrect Prediction!\n",
      "\n",
      "Actual class of the object: cat\n",
      "Predicted class of the object: dog\n",
      "Incorrect Prediction!\n",
      "\n",
      "Actual class of the object: dog\n",
      "Predicted class of the object: dog\n",
      "Correct Prediction!\n",
      "\n",
      "Actual class of the object: frog\n",
      "Predicted class of the object: frog\n",
      "Correct Prediction!\n",
      "\n"
     ]
    },
    {
     "data": {
      "image/png": "[encoded data removed]",
      "text/plain": [
       "<Figure size 1080x108 with 1 Axes>"
      ]
     },
     "metadata": {
      "needs_background": "light"
     },
     "output_type": "display_data"
    },
    {
     "data": {
      "image/png": "[encoded data removed]",
      "text/plain": [
       "<Figure size 1080x108 with 1 Axes>"
      ]
     },
     "metadata": {
      "needs_background": "light"
     },
     "output_type": "display_data"
    },
    {
     "data": {
      "image/png": "[encoded data removed]",
      "text/plain": [
       "<Figure size 1080x108 with 1 Axes>"
      ]
     },
     "metadata": {
      "needs_background": "light"
     },
     "output_type": "display_data"
    },
    {
     "data": {
      "image/png": "[encoded data removed]",
      "text/plain": [
       "<Figure size 1080x108 with 1 Axes>"
      ]
     },
     "metadata": {
      "needs_background": "light"
     },
     "output_type": "display_data"
    },
    {
     "data": {
      "image/png": "[encoded data removed]",
      "text/plain": [
       "<Figure size 1080x108 with 1 Axes>"
      ]
     },
     "metadata": {
      "needs_background": "light"
     },
     "output_type": "display_data"
    }
   ],
   "source": [
    "# Checking whether the predictions are correct or not.\n",
    "yPredictions = or_model.predict(xTestr)\n",
    "yPredictedClasses = [np.argmax(probability) for probability in yPredictions]\n",
    "\n",
    "# Function to check if the prediction was correct\n",
    "def ifPredictionCorrect(index):\n",
    "    # plotting the image first\n",
    "    plotImage(xTest, yTestr, index)\n",
    "\n",
    "    print(\"Actual class of the object:\", classes[yTestr[index]])\n",
    "    print(\"Predicted class of the object:\", classes[yPredictedClasses[index]])\n",
    "\n",
    "    \n",
    "    if classes[yPredictedClasses[index]] == classes[yTestr[index]]:\n",
    "        print(\"Correct Prediction!\")\n",
    "    else:\n",
    "        print(\"Incorrect Prediction!\")\n",
    "\n",
    "    print(\"\")\n",
    "\n",
    "ifPredictionCorrect(984)\n",
    "ifPredictionCorrect(3489)\n",
    "ifPredictionCorrect(5155)\n",
    "ifPredictionCorrect(8469)\n",
    "ifPredictionCorrect(9969)"
   ]
  },
  {
   "cell_type": "markdown",
   "metadata": {},
   "source": [
    "# ----------------------------------------------------------------------------------------------------------"
   ]
  }
 ],
 "metadata": {
  "interpreter": {
   "hash": "75179d693a8b031e1e584314f1056063b779da9ecb5bb166829d1319e38c6634"
  },
  "kernelspec": {
   "display_name": "Python 3.8.8 64-bit",
   "language": "python",
   "name": "python3"
  },
  "language_info": {
   "codemirror_mode": {
    "name": "ipython",
    "version": 3
   },
   "file_extension": ".py",
   "mimetype": "text/x-python",
   "name": "python",
   "nbconvert_exporter": "python",
   "pygments_lexer": "ipython3",
   "version": "3.8.8"
  },
  "orig_nbformat": 4
 },
 "nbformat": 4,
 "nbformat_minor": 2
}
