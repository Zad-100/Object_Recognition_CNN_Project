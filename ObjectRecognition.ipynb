{
 "cells": [
  {
   "cell_type": "markdown",
   "metadata": {},
   "source": [
    "# <b>This AI model will be able to recognise objects like animals, airplane, ships, etc. and classify them accordingly. The AI model will train and test on CIFAR-10 data-set using Convolutional Neural Network method.</b>"
   ]
  },
  {
   "cell_type": "code",
   "execution_count": 20,
   "metadata": {},
   "outputs": [],
   "source": [
    "import tensorflow as tf # package providing the framework for building the model"
   ]
  },
  {
   "cell_type": "markdown",
   "metadata": {},
   "source": [
    "##### <i>Loading CIFAR-10 Data-set. It consists of 50000 training coloured images and 10000 testing coloured (RGB) images; each of size 32x32. There are 10 classes viz. \"airplane\", \"automobile\", \"bird\", \"cat\", \"deer\", \"dog\", \"frog\", \"horse\", \"ship\", \"truck\"</i>\n",
    "\n",
    "##### <i>Tensorflow already has it. We can load it using Keras.</i>"
   ]
  },
  {
   "cell_type": "code",
   "execution_count": 21,
   "metadata": {},
   "outputs": [],
   "source": [
    "cifar = tf.keras.datasets.cifar10\n",
    "\n",
    "# Unpacking and splitting the data-sets into training and testing images\n",
    "(xTrain, yTrain), (xTest, yTest) = cifar.load_data()"
   ]
  },
  {
   "cell_type": "code",
   "execution_count": 22,
   "metadata": {},
   "outputs": [
    {
     "name": "stdout",
     "output_type": "stream",
     "text": [
      "-----------------------------------------------------------------------\n",
      "The length of training set (x) is 50000\n",
      "The length of training set (y) is 50000\n",
      "-----------------------------------------------------------------------\n",
      "The length of testing set (x) is 10000\n",
      "The length of testing set (y) is 10000\n",
      "-----------------------------------------------------------------------\n",
      "The shape of the 6th element in the training set is (32, 32, 3)\n",
      "The 6th element from the training set consists of:-\n",
      " [[[159 102 101]\n",
      "  [150  91  95]\n",
      "  [153  95  97]\n",
      "  ...\n",
      "  [ 91  71  56]\n",
      "  [ 74  63  55]\n",
      "  [ 76  58  55]]\n",
      "\n",
      " [[142  75  68]\n",
      "  [146  72  66]\n",
      "  [155  76  65]\n",
      "  ...\n",
      "  [127 105  71]\n",
      "  [122 111  93]\n",
      "  [ 86  69  61]]\n",
      "\n",
      " [[109  67  75]\n",
      "  [ 99  58  60]\n",
      "  [105  59  52]\n",
      "  ...\n",
      "  [137 112  80]\n",
      "  [163 132 105]\n",
      "  [ 93  72  71]]\n",
      "\n",
      " ...\n",
      "\n",
      " [[244 129  70]\n",
      "  [240 123  65]\n",
      "  [241 122  65]\n",
      "  ...\n",
      "  [156  42  15]\n",
      "  [179  59  26]\n",
      "  [200  73  36]]\n",
      "\n",
      " [[246 133  74]\n",
      "  [243 128  72]\n",
      "  [243 127  70]\n",
      "  ...\n",
      "  [162  44  14]\n",
      "  [178  56  22]\n",
      "  [192  65  27]]\n",
      "\n",
      " [[246 139  82]\n",
      "  [243 133  78]\n",
      "  [244 132  77]\n",
      "  ...\n",
      "  [166  47  14]\n",
      "  [173  51  17]\n",
      "  [182  57  19]]]\n",
      "-----------------------------------------------------------------------\n"
     ]
    }
   ],
   "source": [
    "# CIFAR-10 data contains 50000 training samples and 10000 testing samples\n",
    "print(\"-----------------------------------------------------------------------\")\n",
    "print(\"The length of training set (x) is\", len(xTrain))\n",
    "print(\"The length of training set (y) is\", len(yTrain))\n",
    "print(\"-----------------------------------------------------------------------\")\n",
    "print(\"The length of testing set (x) is\", len(xTest))\n",
    "print(\"The length of testing set (y) is\", len(yTest))\n",
    "print(\"-----------------------------------------------------------------------\")\n",
    "\n",
    "# Shape of the image is 32x32\n",
    "print(\"The shape of the 6th element in the training set is\", xTrain[5].shape)\n",
    "print(\"The 6th element from the training set consists of:-\\n\", xTrain[5])\n",
    "print(\"-----------------------------------------------------------------------\")"
   ]
  },
  {
   "cell_type": "markdown",
   "metadata": {},
   "source": [
    "##### <i>Importing matplotlib to plot and view images and numpy to handle arrays and other mathematical operations</i>"
   ]
  },
  {
   "cell_type": "code",
   "execution_count": 23,
   "metadata": {},
   "outputs": [],
   "source": [
    "import matplotlib.pyplot as plt\n",
    "import numpy as np"
   ]
  },
  {
   "cell_type": "markdown",
   "metadata": {},
   "source": [
    "#### <b>Visualising Some Sample Images</b>"
   ]
  },
  {
   "cell_type": "code",
   "execution_count": 24,
   "metadata": {},
   "outputs": [
    {
     "name": "stdout",
     "output_type": "stream",
     "text": [
      "-----------------------------------------------------------------------\n",
      "The original train version:\n",
      "[[6]\n",
      " [9]\n",
      " [9]\n",
      " [4]]\n",
      "-----------------------------------------------------------------------\n",
      "The reshaped train version:\n",
      "[6 9 9 4]\n",
      "-----------------------------------------------------------------------\n",
      "The original test version:\n",
      "[[3]\n",
      " [8]\n",
      " [8]\n",
      " [0]]\n",
      "-----------------------------------------------------------------------\n",
      "The reshaped test version:\n",
      "[3 8 8 0]\n",
      "-----------------------------------------------------------------------\n"
     ]
    }
   ],
   "source": [
    "# First we shall make a tuple named 'classes' which will store all the class\n",
    "# names of the data-set in the same order as is in CIFAR-10 data-set\n",
    "classes = (\n",
    "    \"airplane\",\n",
    "    \"automobile\",\n",
    "    \"bird\",\n",
    "    \"cat\",\n",
    "    \"deer\",\n",
    "    \"dog\",\n",
    "    \"frog\",\n",
    "    \"horse\",\n",
    "    \"ship\",\n",
    "    \"truck\"\n",
    ")\n",
    "\n",
    "# Now reshaping yTrain and yTest so that it becomes a one-dimensional array and\n",
    "# we can access its data with just one index\n",
    "yTrainr = yTrain.reshape(-1, )\n",
    "yTestr = yTest.reshape(-1, )\n",
    "print(\"-----------------------------------------------------------------------\")\n",
    "print(\"The original train version:\", yTrain[: 4], sep=\"\\n\")\n",
    "print(\"-----------------------------------------------------------------------\")\n",
    "print(\"The reshaped train version:\", yTrainr[: 4], sep=\"\\n\")\n",
    "print(\"-----------------------------------------------------------------------\")\n",
    "print(\"The original test version:\", yTest[: 4], sep=\"\\n\")\n",
    "print(\"-----------------------------------------------------------------------\")\n",
    "print(\"The reshaped test version:\", yTestr[: 4], sep=\"\\n\")\n",
    "print(\"-----------------------------------------------------------------------\")"
   ]
  },
  {
   "cell_type": "code",
   "execution_count": 25,
   "metadata": {},
   "outputs": [],
   "source": [
    "# function to plot an image\n",
    "# x and y can be training/test sets index is the index whose image we want to\n",
    "# plot\n",
    "def plotImage(x, y, index):\n",
    "    plt.figure(figsize=(15, 1.5))\n",
    "    plt.imshow(x[index])\n",
    "    plt.xlabel(classes[y[index]])\n",
    "# end function plotImage()"
   ]
  },
  {
   "cell_type": "code",
   "execution_count": 26,
   "metadata": {},
   "outputs": [
    {
     "data": {
      "image/png": "[encoded data removed]",
      "text/plain": [
       "<Figure size 1080x108 with 1 Axes>"
      ]
     },
     "metadata": {
      "needs_background": "light"
     },
     "output_type": "display_data"
    },
    {
     "data": {
      "image/png": "[encoded data removed]",
      "text/plain": [
       "<Figure size 1080x108 with 1 Axes>"
      ]
     },
     "metadata": {
      "needs_background": "light"
     },
     "output_type": "display_data"
    },
    {
     "data": {
      "image/png": "[encoded data removed]",
      "text/plain": [
       "<Figure size 1080x108 with 1 Axes>"
      ]
     },
     "metadata": {
      "needs_background": "light"
     },
     "output_type": "display_data"
    },
    {
     "data": {
      "image/png": "[encoded data removed]",
      "text/plain": [
       "<Figure size 1080x108 with 1 Axes>"
      ]
     },
     "metadata": {
      "needs_background": "light"
     },
     "output_type": "display_data"
    }
   ],
   "source": [
    "# Plotting some images\n",
    "plotImage(xTrain, yTrainr, 10)\n",
    "plotImage(xTest, yTestr, 10)\n",
    "plotImage(xTrain, yTrainr, 6969)\n",
    "plotImage(xTest, yTestr, 4987)"
   ]
  },
  {
   "cell_type": "markdown",
   "metadata": {},
   "source": [
    "#### <i>Resizing Image to Make It Suitable for Applying Convolution Operations</i>"
   ]
  },
  {
   "cell_type": "code",
   "execution_count": 27,
   "metadata": {},
   "outputs": [
    {
     "name": "stdout",
     "output_type": "stream",
     "text": [
      "-----------------------------------------------------------------------\n",
      "Training samples shape: (50000, 32, 32, 3)\n",
      "Testing samples shape: (10000, 32, 32, 3)\n",
      "-----------------------------------------------------------------------\n"
     ]
    }
   ],
   "source": [
    "IMG_SIZE = 32\n",
    "# Increasing by one dimension (making it 4-dimensional) so that it can work with\n",
    "# Keras API\n",
    "xTrainr = np.array(xTrain).reshape(-1, IMG_SIZE, IMG_SIZE, 3)\n",
    "xTestr = np.array(xTest).reshape(-1, IMG_SIZE, IMG_SIZE, 3)\n",
    "\n",
    "print(\"-----------------------------------------------------------------------\")\n",
    "print(\"Training samples shape:\", xTrainr.shape)\n",
    "print(\"Testing samples shape:\", xTestr.shape)\n",
    "print(\"-----------------------------------------------------------------------\")"
   ]
  },
  {
   "cell_type": "markdown",
   "metadata": {},
   "source": [
    "### <u>Scaling/Normalisation</u>\n",
    "#### <i>division by 255 to bring in the range 0 to 1</i>"
   ]
  },
  {
   "cell_type": "code",
   "execution_count": 28,
   "metadata": {},
   "outputs": [
    {
     "name": "stdout",
     "output_type": "stream",
     "text": [
      "-----------------------------------------------------------------------\n",
      "The reshaped and normalised (1st training image) image is:\n",
      "[[[0.23137255 0.24313725 0.24705882]\n",
      "  [0.16862745 0.18039216 0.17647059]\n",
      "  [0.19607843 0.18823529 0.16862745]\n",
      "  ...\n",
      "  [0.61960784 0.51764706 0.42352941]\n",
      "  [0.59607843 0.49019608 0.4       ]\n",
      "  [0.58039216 0.48627451 0.40392157]]\n",
      "\n",
      " [[0.0627451  0.07843137 0.07843137]\n",
      "  [0.         0.         0.        ]\n",
      "  [0.07058824 0.03137255 0.        ]\n",
      "  ...\n",
      "  [0.48235294 0.34509804 0.21568627]\n",
      "  [0.46666667 0.3254902  0.19607843]\n",
      "  [0.47843137 0.34117647 0.22352941]]\n",
      "\n",
      " [[0.09803922 0.09411765 0.08235294]\n",
      "  [0.0627451  0.02745098 0.        ]\n",
      "  [0.19215686 0.10588235 0.03137255]\n",
      "  ...\n",
      "  [0.4627451  0.32941176 0.19607843]\n",
      "  [0.47058824 0.32941176 0.19607843]\n",
      "  [0.42745098 0.28627451 0.16470588]]\n",
      "\n",
      " ...\n",
      "\n",
      " [[0.81568627 0.66666667 0.37647059]\n",
      "  [0.78823529 0.6        0.13333333]\n",
      "  [0.77647059 0.63137255 0.10196078]\n",
      "  ...\n",
      "  [0.62745098 0.52156863 0.2745098 ]\n",
      "  [0.21960784 0.12156863 0.02745098]\n",
      "  [0.20784314 0.13333333 0.07843137]]\n",
      "\n",
      " [[0.70588235 0.54509804 0.37647059]\n",
      "  [0.67843137 0.48235294 0.16470588]\n",
      "  [0.72941176 0.56470588 0.11764706]\n",
      "  ...\n",
      "  [0.72156863 0.58039216 0.36862745]\n",
      "  [0.38039216 0.24313725 0.13333333]\n",
      "  [0.3254902  0.20784314 0.13333333]]\n",
      "\n",
      " [[0.69411765 0.56470588 0.45490196]\n",
      "  [0.65882353 0.50588235 0.36862745]\n",
      "  [0.70196078 0.55686275 0.34117647]\n",
      "  ...\n",
      "  [0.84705882 0.72156863 0.54901961]\n",
      "  [0.59215686 0.4627451  0.32941176]\n",
      "  [0.48235294 0.36078431 0.28235294]]]\n",
      "-----------------------------------------------------------------------\n",
      "The reshaped and normalised (1st testing image) image is:\n",
      "[[[0.61960784 0.43921569 0.19215686]\n",
      "  [0.62352941 0.43529412 0.18431373]\n",
      "  [0.64705882 0.45490196 0.2       ]\n",
      "  ...\n",
      "  [0.5372549  0.37254902 0.14117647]\n",
      "  [0.49411765 0.35686275 0.14117647]\n",
      "  [0.45490196 0.33333333 0.12941176]]\n",
      "\n",
      " [[0.59607843 0.43921569 0.2       ]\n",
      "  [0.59215686 0.43137255 0.15686275]\n",
      "  [0.62352941 0.44705882 0.17647059]\n",
      "  ...\n",
      "  [0.53333333 0.37254902 0.12156863]\n",
      "  [0.49019608 0.35686275 0.1254902 ]\n",
      "  [0.46666667 0.34509804 0.13333333]]\n",
      "\n",
      " [[0.59215686 0.43137255 0.18431373]\n",
      "  [0.59215686 0.42745098 0.12941176]\n",
      "  [0.61960784 0.43529412 0.14117647]\n",
      "  ...\n",
      "  [0.54509804 0.38431373 0.13333333]\n",
      "  [0.50980392 0.37254902 0.13333333]\n",
      "  [0.47058824 0.34901961 0.12941176]]\n",
      "\n",
      " ...\n",
      "\n",
      " [[0.26666667 0.48627451 0.69411765]\n",
      "  [0.16470588 0.39215686 0.58039216]\n",
      "  [0.12156863 0.34509804 0.5372549 ]\n",
      "  ...\n",
      "  [0.14901961 0.38039216 0.57254902]\n",
      "  [0.05098039 0.25098039 0.42352941]\n",
      "  [0.15686275 0.33333333 0.49803922]]\n",
      "\n",
      " [[0.23921569 0.45490196 0.65882353]\n",
      "  [0.19215686 0.4        0.58039216]\n",
      "  [0.1372549  0.33333333 0.51764706]\n",
      "  ...\n",
      "  [0.10196078 0.32156863 0.50980392]\n",
      "  [0.11372549 0.32156863 0.49411765]\n",
      "  [0.07843137 0.25098039 0.41960784]]\n",
      "\n",
      " [[0.21176471 0.41960784 0.62745098]\n",
      "  [0.21960784 0.41176471 0.58431373]\n",
      "  [0.17647059 0.34901961 0.51764706]\n",
      "  ...\n",
      "  [0.09411765 0.30196078 0.48627451]\n",
      "  [0.13333333 0.32941176 0.50588235]\n",
      "  [0.08235294 0.2627451  0.43137255]]]\n",
      "-----------------------------------------------------------------------\n"
     ]
    }
   ],
   "source": [
    "xTrainr = xTrainr / 255\n",
    "xTestr = xTestr / 255\n",
    "\n",
    "print(\"-----------------------------------------------------------------------\")\n",
    "print(\"The reshaped and normalised (1st training image) image is:\", xTrainr[0],\n",
    "      sep=\"\\n\")\n",
    "print(\"-----------------------------------------------------------------------\")\n",
    "print(\"The reshaped and normalised (1st testing image) image is:\", xTestr[0],\n",
    "      sep=\"\\n\")\n",
    "print(\"-----------------------------------------------------------------------\")"
   ]
  },
  {
   "cell_type": "markdown",
   "metadata": {},
   "source": [
    "### <u>Creating Deep Neural Netwrok</u>\n",
    "#### <i>and training on 50000 traning samples</i>"
   ]
  },
  {
   "cell_type": "code",
   "execution_count": 29,
   "metadata": {},
   "outputs": [],
   "source": [
    "# Importing the required functions\n",
    "from tensorflow.keras.models import Sequential\n",
    "from tensorflow.keras.layers import Dense, Activation, MaxPool2D\n",
    "from tensorflow.keras.layers import Flatten, Conv2D, Dropout"
   ]
  },
  {
   "cell_type": "code",
   "execution_count": 30,
   "metadata": {},
   "outputs": [],
   "source": [
    "# Creating a simple neural network\n",
    "or_model = Sequential() # Sequential allows to build a model layer by layer\n",
    "\n",
    "# First Convolutional Layer\n",
    "# (input layer size is mentioned for only first layer)\n",
    "or_model.add(Conv2D(50, kernel_size=(3, 3), input_shape=(32, 32, 3),\n",
    "                    strides=(1, 1), padding='same', activation='relu'))\n",
    "# maxpooling single maximum value of 2x2\n",
    "or_model.add(MaxPool2D(pool_size=(2, 2))) # selects the maximum element from\n",
    "                                          # each region of the feature map\n",
    "                                          # reducing the size by half\n",
    "\n",
    "# Second Convolutional Layer\n",
    "or_model.add(Conv2D(100, kernel_size=(3, 3), strides=(1, 1), padding='same',\n",
    "                    activation='relu'))\n",
    "or_model.add(MaxPool2D(pool_size=(2, 2)))\n",
    "or_model.add(Dropout(0.3)) # to avoid overfitting\n",
    "\n",
    "# Third Convolutional Layer\n",
    "or_model.add(Conv2D(150, kernel_size=(3, 3), strides=(1, 1), padding='same',\n",
    "                    activation='relu'))\n",
    "or_model.add(MaxPool2D(pool_size=(2, 2)))\n",
    "or_model.add(Dropout(0.3))\n",
    "\n",
    "# Now we shall flatten (transfroming into a single column) the feature map\n",
    "# matrix before connecting the layers fully\n",
    "or_model.add(Flatten())\n",
    "\n",
    "# Creating the dense layer (fully connecting the each layer to the next layer)\n",
    "or_model.add(Dense(400, activation='relu')) # connecting first layer\n",
    "or_model.add(Dropout(0.4))\n",
    "\n",
    "or_model.add(Dense(200, activation='relu')) # connecting layer 2\n",
    "or_model.add(Dropout(0.4))\n",
    "\n",
    "# Last fully connected layer, where the output must be equal to number of\n",
    "# classes, 10, that is\n",
    "or_model.add(Dense(10))\n",
    "or_model.add(Activation(\"softmax\")) # class probabilities"
   ]
  },
  {
   "cell_type": "code",
   "execution_count": 31,
   "metadata": {},
   "outputs": [
    {
     "name": "stdout",
     "output_type": "stream",
     "text": [
      "-----------------------------------------------------------------------\n",
      "Here is the model's summary:-\n",
      "Model: \"sequential_1\"\n",
      "_________________________________________________________________\n",
      " Layer (type)                Output Shape              Param #   \n",
      "=================================================================\n",
      " conv2d_3 (Conv2D)           (None, 32, 32, 50)        1400      \n",
      "                                                                 \n",
      " max_pooling2d_3 (MaxPooling  (None, 16, 16, 50)       0         \n",
      " 2D)                                                             \n",
      "                                                                 \n",
      " conv2d_4 (Conv2D)           (None, 16, 16, 100)       45100     \n",
      "                                                                 \n",
      " max_pooling2d_4 (MaxPooling  (None, 8, 8, 100)        0         \n",
      " 2D)                                                             \n",
      "                                                                 \n",
      " dropout_4 (Dropout)         (None, 8, 8, 100)         0         \n",
      "                                                                 \n",
      " conv2d_5 (Conv2D)           (None, 8, 8, 150)         135150    \n",
      "                                                                 \n",
      " max_pooling2d_5 (MaxPooling  (None, 4, 4, 150)        0         \n",
      " 2D)                                                             \n",
      "                                                                 \n",
      " dropout_5 (Dropout)         (None, 4, 4, 150)         0         \n",
      "                                                                 \n",
      " flatten_1 (Flatten)         (None, 2400)              0         \n",
      "                                                                 \n",
      " dense_3 (Dense)             (None, 400)               960400    \n",
      "                                                                 \n",
      " dropout_6 (Dropout)         (None, 400)               0         \n",
      "                                                                 \n",
      " dense_4 (Dense)             (None, 200)               80200     \n",
      "                                                                 \n",
      " dropout_7 (Dropout)         (None, 200)               0         \n",
      "                                                                 \n",
      " dense_5 (Dense)             (None, 10)                2010      \n",
      "                                                                 \n",
      " activation_1 (Activation)   (None, 10)                0         \n",
      "                                                                 \n",
      "=================================================================\n",
      "Total params: 1,224,260\n",
      "Trainable params: 1,224,260\n",
      "Non-trainable params: 0\n",
      "_________________________________________________________________\n"
     ]
    },
    {
     "data": {
      "text/plain": [
       "None"
      ]
     },
     "metadata": {},
     "output_type": "display_data"
    },
    {
     "name": "stdout",
     "output_type": "stream",
     "text": [
      "-----------------------------------------------------------------------\n"
     ]
    }
   ],
   "source": [
    "# Displaying the or_model summary\n",
    "print(\"-----------------------------------------------------------------------\")\n",
    "print(\"Here is the model's summary:-\")\n",
    "display(or_model.summary())\n",
    "print(\"-----------------------------------------------------------------------\")"
   ]
  },
  {
   "cell_type": "markdown",
   "metadata": {},
   "source": [
    "### <u>Compiling the AI model</u>"
   ]
  },
  {
   "cell_type": "code",
   "execution_count": 32,
   "metadata": {},
   "outputs": [],
   "source": [
    "# Compiling our AI model\n",
    "or_model.compile(\n",
    "    optimizer=\"adam\", # controls the learning rate\n",
    "    loss=\"sparse_categorical_crossentropy\", # estimates the loss of the model\n",
    "    metrics=['accuracy']\n",
    ")"
   ]
  },
  {
   "cell_type": "markdown",
   "metadata": {},
   "source": [
    "### <u>Training the Model</u>"
   ]
  },
  {
   "cell_type": "code",
   "execution_count": 33,
   "metadata": {},
   "outputs": [
    {
     "name": "stdout",
     "output_type": "stream",
     "text": [
      "Epoch 1/30\n",
      "274/274 [==============================] - 55s 197ms/step - loss: 1.8256 - accuracy: 0.3176 - val_loss: 1.4582 - val_accuracy: 0.4616\n",
      "Epoch 2/30\n",
      "274/274 [==============================] - 55s 202ms/step - loss: 1.4125 - accuracy: 0.4847 - val_loss: 1.2225 - val_accuracy: 0.5579\n",
      "Epoch 3/30\n",
      "274/274 [==============================] - 60s 219ms/step - loss: 1.2383 - accuracy: 0.5558 - val_loss: 1.0935 - val_accuracy: 0.6159\n",
      "Epoch 4/30\n",
      "274/274 [==============================] - 58s 212ms/step - loss: 1.1100 - accuracy: 0.6055 - val_loss: 0.9665 - val_accuracy: 0.6655\n",
      "Epoch 5/30\n",
      "274/274 [==============================] - 55s 199ms/step - loss: 1.0169 - accuracy: 0.6414 - val_loss: 0.9172 - val_accuracy: 0.6789\n",
      "Epoch 6/30\n",
      "274/274 [==============================] - 56s 205ms/step - loss: 0.9394 - accuracy: 0.6695 - val_loss: 0.8742 - val_accuracy: 0.7021\n",
      "Epoch 7/30\n",
      "274/274 [==============================] - 59s 215ms/step - loss: 0.8753 - accuracy: 0.6937 - val_loss: 0.7898 - val_accuracy: 0.7287\n",
      "Epoch 8/30\n",
      "274/274 [==============================] - 52s 191ms/step - loss: 0.8365 - accuracy: 0.7079 - val_loss: 0.7781 - val_accuracy: 0.7267\n",
      "Epoch 9/30\n",
      "274/274 [==============================] - 56s 203ms/step - loss: 0.8003 - accuracy: 0.7245 - val_loss: 0.7726 - val_accuracy: 0.7331\n",
      "Epoch 10/30\n",
      "274/274 [==============================] - 54s 197ms/step - loss: 0.7555 - accuracy: 0.7367 - val_loss: 0.7399 - val_accuracy: 0.7449\n",
      "Epoch 11/30\n",
      "274/274 [==============================] - 51s 185ms/step - loss: 0.7257 - accuracy: 0.7449 - val_loss: 0.7262 - val_accuracy: 0.7530\n",
      "Epoch 12/30\n",
      "274/274 [==============================] - 54s 197ms/step - loss: 0.6920 - accuracy: 0.7578 - val_loss: 0.7020 - val_accuracy: 0.7575\n",
      "Epoch 13/30\n",
      "274/274 [==============================] - 52s 190ms/step - loss: 0.6710 - accuracy: 0.7648 - val_loss: 0.7088 - val_accuracy: 0.7530\n",
      "Epoch 14/30\n",
      "274/274 [==============================] - 51s 185ms/step - loss: 0.6477 - accuracy: 0.7726 - val_loss: 0.6926 - val_accuracy: 0.7641\n",
      "Epoch 15/30\n",
      "274/274 [==============================] - 51s 185ms/step - loss: 0.6252 - accuracy: 0.7799 - val_loss: 0.6856 - val_accuracy: 0.7633\n",
      "Epoch 16/30\n",
      "274/274 [==============================] - 51s 187ms/step - loss: 0.6106 - accuracy: 0.7855 - val_loss: 0.6844 - val_accuracy: 0.7669\n",
      "Epoch 17/30\n",
      "274/274 [==============================] - 51s 185ms/step - loss: 0.5854 - accuracy: 0.7953 - val_loss: 0.6756 - val_accuracy: 0.7651\n",
      "Epoch 18/30\n",
      "274/274 [==============================] - 51s 186ms/step - loss: 0.5732 - accuracy: 0.8000 - val_loss: 0.6670 - val_accuracy: 0.7715\n",
      "Epoch 19/30\n",
      "274/274 [==============================] - 51s 187ms/step - loss: 0.5544 - accuracy: 0.8050 - val_loss: 0.6875 - val_accuracy: 0.7657\n",
      "Epoch 20/30\n",
      "274/274 [==============================] - 51s 185ms/step - loss: 0.5434 - accuracy: 0.8089 - val_loss: 0.6654 - val_accuracy: 0.7739\n",
      "Epoch 21/30\n",
      "274/274 [==============================] - 52s 191ms/step - loss: 0.5289 - accuracy: 0.8151 - val_loss: 0.6464 - val_accuracy: 0.7795\n",
      "Epoch 22/30\n",
      "274/274 [==============================] - 54s 199ms/step - loss: 0.5198 - accuracy: 0.8179 - val_loss: 0.6409 - val_accuracy: 0.7827\n",
      "Epoch 23/30\n",
      "274/274 [==============================] - 53s 195ms/step - loss: 0.5042 - accuracy: 0.8223 - val_loss: 0.6459 - val_accuracy: 0.7829\n",
      "Epoch 24/30\n",
      "274/274 [==============================] - 51s 187ms/step - loss: 0.4946 - accuracy: 0.8263 - val_loss: 0.6744 - val_accuracy: 0.7745\n",
      "Epoch 25/30\n",
      "274/274 [==============================] - 52s 189ms/step - loss: 0.4842 - accuracy: 0.8301 - val_loss: 0.6727 - val_accuracy: 0.7741\n",
      "Epoch 26/30\n",
      "274/274 [==============================] - 51s 187ms/step - loss: 0.4749 - accuracy: 0.8332 - val_loss: 0.6658 - val_accuracy: 0.7771\n",
      "Epoch 27/30\n",
      "274/274 [==============================] - 51s 186ms/step - loss: 0.4629 - accuracy: 0.8368 - val_loss: 0.6410 - val_accuracy: 0.7817\n",
      "Epoch 28/30\n",
      "274/274 [==============================] - 52s 189ms/step - loss: 0.4517 - accuracy: 0.8409 - val_loss: 0.6377 - val_accuracy: 0.7865\n",
      "Epoch 29/30\n",
      "274/274 [==============================] - 51s 188ms/step - loss: 0.4498 - accuracy: 0.8417 - val_loss: 0.6660 - val_accuracy: 0.7806\n",
      "Epoch 30/30\n",
      "274/274 [==============================] - 51s 187ms/step - loss: 0.4360 - accuracy: 0.8476 - val_loss: 0.6552 - val_accuracy: 0.7817\n"
     ]
    },
    {
     "data": {
      "text/plain": [
       "<keras.callbacks.History at 0x21bc6df9b20>"
      ]
     },
     "execution_count": 33,
     "metadata": {},
     "output_type": "execute_result"
    }
   ],
   "source": [
    "or_model.fit(xTrainr, yTrain, batch_size=128, epochs=30, validation_split=0.3,\n",
    "             validation_data=(xTestr, yTest))"
   ]
  },
  {
   "cell_type": "markdown",
   "metadata": {},
   "source": [
    "### <u>Evaluation of the Model</u>"
   ]
  },
  {
   "cell_type": "code",
   "execution_count": 34,
   "metadata": {},
   "outputs": [
    {
     "name": "stdout",
     "output_type": "stream",
     "text": [
      "313/313 [==============================] - 5s 15ms/step - loss: 0.6662 - accuracy: 0.7835\n",
      "-----------------------------------------------------------------------\n",
      "Accuracy Percentage of this AI Model: 78.35000157356262%\n",
      "-----------------------------------------------------------------------\n"
     ]
    }
   ],
   "source": [
    "or_loss, or_accuracy = or_model.evaluate(xTestr, yTest)\n",
    "print(\"-----------------------------------------------------------------------\")\n",
    "print(\"Accuracy Percentage of this AI Model: \", or_accuracy * 100, \"%\", sep=\"\")\n",
    "print(\"-----------------------------------------------------------------------\")"
   ]
  },
  {
   "cell_type": "markdown",
   "metadata": {},
   "source": [
    "### <u>Model Predictions</u>"
   ]
  },
  {
   "cell_type": "code",
   "execution_count": 35,
   "metadata": {},
   "outputs": [
    {
     "name": "stdout",
     "output_type": "stream",
     "text": [
      "-----------------------------------------------------------------------\n",
      "The predictions arrays are:-\n",
      " [[1.5440742e-10 2.4659413e-10 3.1082891e-06 1.0001257e-02 8.8676417e-09\n",
      "  9.8998570e-01 3.2373273e-07 9.6440244e-06 4.6898836e-09 1.0463128e-09]\n",
      " [9.9020201e-01 3.1731488e-06 1.8628611e-04 4.0628061e-06 2.2234915e-05\n",
      "  1.3705680e-07 5.0901758e-07 1.3600150e-07 9.5411874e-03 4.0353603e-05]\n",
      " [2.1092400e-02 1.1851062e-01 4.3124836e-03 1.8256545e-01 1.4327290e-02\n",
      "  6.2580720e-02 1.6955029e-02 2.5151928e-03 3.1916690e-01 2.5797394e-01]\n",
      " [5.0482485e-10 4.2656672e-12 4.1587409e-05 8.4241092e-06 8.5968709e-01\n",
      "  2.0103427e-03 2.6479968e-08 1.3825260e-01 1.8871186e-11 8.6207794e-12]\n",
      " [5.2040052e-02 1.8794995e-04 1.0592504e-03 3.8626124e-05 1.7040036e-05\n",
      "  6.8558342e-07 3.6910242e-05 4.7603422e-07 9.4522858e-01 1.3903377e-03]\n",
      " [1.3070214e-05 9.9453676e-01 3.3424169e-06 3.5413489e-06 4.4553951e-07\n",
      "  4.4817507e-06 1.3979964e-05 7.8594149e-07 4.1332287e-03 1.2903905e-03]\n",
      " [2.1447292e-11 9.9961227e-01 8.0332295e-12 7.5025289e-13 1.7799576e-14\n",
      "  1.3473922e-12 7.2397427e-10 2.7533193e-15 1.0784604e-07 3.8764498e-04]\n",
      " [4.0650249e-02 8.2803763e-07 5.7078207e-05 6.3438065e-08 3.0948101e-08\n",
      "  3.5007157e-09 9.7913372e-08 3.7485326e-10 9.5929104e-01 5.6968571e-07]\n",
      " [6.8502733e-03 3.7155595e-01 5.5639348e-03 8.2894340e-02 5.7365531e-03\n",
      "  2.8535798e-02 7.9723716e-02 4.8238230e-03 2.8609660e-02 3.8570589e-01]]\n",
      "-----------------------------------------------------------------------\n"
     ]
    }
   ],
   "source": [
    "classesIdx = range(0, 10)\n",
    "# Zipping the classesIdx and classes to make a dictionary of class_label\n",
    "classLabels = dict(zip(classesIdx, classes))\n",
    "\n",
    "# Generating batch of 9 images to predict\n",
    "batch = xTestr[1000: 1009]\n",
    "labels = np.argmax(yTest[1000: 1009], axis=(-1))\n",
    "\n",
    "# Making predictions\n",
    "yPredictions = or_model.predict(batch)\n",
    "\n",
    "print(\"-----------------------------------------------------------------------\")\n",
    "print(\"The predictions arrays are:-\\n\", yPredictions)\n",
    "print(\"-----------------------------------------------------------------------\")"
   ]
  },
  {
   "cell_type": "code",
   "execution_count": 36,
   "metadata": {},
   "outputs": [],
   "source": [
    "# Creating a list of predictions of all the test images\n",
    "yPredictions = or_model.predict(xTestr)\n",
    "yPredictedClasses = [np.argmax(probability) for probability in yPredictions]"
   ]
  },
  {
   "cell_type": "code",
   "execution_count": 37,
   "metadata": {},
   "outputs": [],
   "source": [
    "# Function to check if the prediction was correct\n",
    "def ifPredictionCorrect(index):\n",
    "    # Plotting the image first\n",
    "    plotImage(xTest, yTestr, index)\n",
    "\n",
    "    print(\"Actual class of the object:\", classes[yTestr[index]])\n",
    "    print(\"Predicted class of the object:\", classes[yPredictedClasses[index]])\n",
    "\n",
    "    \n",
    "    if classes[yPredictedClasses[index]] == classes[yTestr[index]]:\n",
    "        print(\"Correct Prediction!\")\n",
    "    else:\n",
    "        print(\"Incorrect Prediction!\")\n",
    "\n",
    "    print(\"\")\n",
    "# end function ifPredictionCorrect()"
   ]
  },
  {
   "cell_type": "code",
   "execution_count": 38,
   "metadata": {},
   "outputs": [
    {
     "name": "stdout",
     "output_type": "stream",
     "text": [
      "-----------------------------------------------------------------------\n",
      "Actual class of the object: ship\n",
      "Predicted class of the object: airplane\n",
      "Incorrect Prediction!\n",
      "\n",
      "Actual class of the object: dog\n",
      "Predicted class of the object: frog\n",
      "Incorrect Prediction!\n",
      "\n",
      "Actual class of the object: airplane\n",
      "Predicted class of the object: airplane\n",
      "Correct Prediction!\n",
      "\n",
      "Actual class of the object: airplane\n",
      "Predicted class of the object: airplane\n",
      "Correct Prediction!\n",
      "\n",
      "Actual class of the object: deer\n",
      "Predicted class of the object: deer\n",
      "Correct Prediction!\n",
      "\n",
      "-----------------------------------------------------------------------\n"
     ]
    },
    {
     "data": {
      "image/png": "[encoded data removed]",
      "text/plain": [
       "<Figure size 1080x108 with 1 Axes>"
      ]
     },
     "metadata": {
      "needs_background": "light"
     },
     "output_type": "display_data"
    },
    {
     "data": {
      "image/png": "[encoded data removed]",
      "text/plain": [
       "<Figure size 1080x108 with 1 Axes>"
      ]
     },
     "metadata": {
      "needs_background": "light"
     },
     "output_type": "display_data"
    },
    {
     "data": {
      "image/png": "[encoded data removed]",
      "text/plain": [
       "<Figure size 1080x108 with 1 Axes>"
      ]
     },
     "metadata": {
      "needs_background": "light"
     },
     "output_type": "display_data"
    },
    {
     "data": {
      "image/png": "[encoded data removed]",
      "text/plain": [
       "<Figure size 1080x108 with 1 Axes>"
      ]
     },
     "metadata": {
      "needs_background": "light"
     },
     "output_type": "display_data"
    },
    {
     "data": {
      "image/png": "[encoded data removed]",
      "text/plain": [
       "<Figure size 1080x108 with 1 Axes>"
      ]
     },
     "metadata": {
      "needs_background": "light"
     },
     "output_type": "display_data"
    }
   ],
   "source": [
    "# Function Calls\n",
    "print(\"-----------------------------------------------------------------------\")\n",
    "ifPredictionCorrect(368)\n",
    "ifPredictionCorrect(2989)\n",
    "ifPredictionCorrect(5788)\n",
    "ifPredictionCorrect(7356)\n",
    "ifPredictionCorrect(9536)\n",
    "print(\"-----------------------------------------------------------------------\")"
   ]
  },
  {
   "cell_type": "markdown",
   "metadata": {},
   "source": [
    "# <b>---------------------------------------------------------------------------------------------------</b>"
   ]
  }
 ],
 "metadata": {
  "interpreter": {
   "hash": "75179d693a8b031e1e584314f1056063b779da9ecb5bb166829d1319e38c6634"
  },
  "kernelspec": {
   "display_name": "Python 3.8.8 64-bit",
   "language": "python",
   "name": "python3"
  },
  "language_info": {
   "codemirror_mode": {
    "name": "ipython",
    "version": 3
   },
   "file_extension": ".py",
   "mimetype": "text/x-python",
   "name": "python",
   "nbconvert_exporter": "python",
   "pygments_lexer": "ipython3",
   "version": "3.8.8"
  },
  "orig_nbformat": 4
 },
 "nbformat": 4,
 "nbformat_minor": 2
}
